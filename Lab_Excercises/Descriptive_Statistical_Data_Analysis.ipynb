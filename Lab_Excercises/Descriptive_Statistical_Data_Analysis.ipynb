{
 "cells": [
  {
   "cell_type": "markdown",
   "metadata": {
    "id": "ck_UtO7jHRPY"
   },
   "source": [
    "## Descriptive Statistical Data Analysis"
   ]
  },
  {
   "cell_type": "markdown",
   "metadata": {
    "id": "Knfw5LteHRPc"
   },
   "source": [
    "### About the dataset (Customer Tip Data)\n",
    "\n",
    "The dataset contains information about the 244 orders served at a restaurant in the United States. Each observation includes the factors related to the order like total bill, time, the total number of people in a group, gender of the person paying for the order and so on.\n",
    "\n",
    "Attribute Information:\n",
    "\n",
    "**total_bill:** Total bill (cost of the meal), including tax, in US dollars\n",
    "\n",
    "**tip:** Tip in US dollars\n",
    "\n",
    "**sex:** Sex of person paying for the meal\n",
    "\n",
    "**smoker:** There is a smoker in a group or not\n",
    "\n",
    "**day:** Day on which the order is served\n",
    "\n",
    "**time:** Time of the order\n",
    "\n",
    "**size:** Size of the group"
   ]
  },
  {
   "cell_type": "markdown",
   "metadata": {
    "id": "iC2Qz7dnHRPd"
   },
   "source": [
    "**Import the required libraries**"
   ]
  },
  {
   "cell_type": "code",
   "execution_count": 3,
   "metadata": {
    "id": "LJNdq8TDHRPd"
   },
   "outputs": [],
   "source": [
    "import pandas as pd\n",
    "from scipy import stats\n",
    "import numpy as np\n",
    "import seaborn as sns\n",
    "import matplotlib.pyplot as plt\n",
    "%matplotlib inline"
   ]
  },
  {
   "cell_type": "markdown",
   "metadata": {
    "id": "avf7zpzqHRPe"
   },
   "source": [
    "#### Load the customer tip dataset and print the first five observations"
   ]
  },
  {
   "cell_type": "code",
   "execution_count": 24,
   "metadata": {
    "colab": {
     "base_uri": "https://localhost:8080/",
     "height": 441
    },
    "id": "9dFGIZ5MHRPf",
    "outputId": "31814a3a-432d-4da1-eb7b-443df1f9c05c"
   },
   "outputs": [
    {
     "name": "stdout",
     "output_type": "stream",
     "text": [
      "(244, 7)\n"
     ]
    },
    {
     "data": {
      "text/html": [
       "<div>\n",
       "<style scoped>\n",
       "    .dataframe tbody tr th:only-of-type {\n",
       "        vertical-align: middle;\n",
       "    }\n",
       "\n",
       "    .dataframe tbody tr th {\n",
       "        vertical-align: top;\n",
       "    }\n",
       "\n",
       "    .dataframe thead th {\n",
       "        text-align: right;\n",
       "    }\n",
       "</style>\n",
       "<table border=\"1\" class=\"dataframe\">\n",
       "  <thead>\n",
       "    <tr style=\"text-align: right;\">\n",
       "      <th></th>\n",
       "      <th>total_bill</th>\n",
       "      <th>tip</th>\n",
       "      <th>sex</th>\n",
       "      <th>smoker</th>\n",
       "      <th>day</th>\n",
       "      <th>time</th>\n",
       "      <th>size</th>\n",
       "    </tr>\n",
       "  </thead>\n",
       "  <tbody>\n",
       "    <tr>\n",
       "      <th>0</th>\n",
       "      <td>16.99</td>\n",
       "      <td>1.01</td>\n",
       "      <td>Female</td>\n",
       "      <td>No</td>\n",
       "      <td>Sun</td>\n",
       "      <td>Dinner</td>\n",
       "      <td>2</td>\n",
       "    </tr>\n",
       "    <tr>\n",
       "      <th>1</th>\n",
       "      <td>10.34</td>\n",
       "      <td>1.66</td>\n",
       "      <td>Male</td>\n",
       "      <td>No</td>\n",
       "      <td>Sun</td>\n",
       "      <td>Dinner</td>\n",
       "      <td>3</td>\n",
       "    </tr>\n",
       "    <tr>\n",
       "      <th>2</th>\n",
       "      <td>21.01</td>\n",
       "      <td>3.50</td>\n",
       "      <td>Male</td>\n",
       "      <td>No</td>\n",
       "      <td>Sun</td>\n",
       "      <td>Dinner</td>\n",
       "      <td>3</td>\n",
       "    </tr>\n",
       "    <tr>\n",
       "      <th>3</th>\n",
       "      <td>23.68</td>\n",
       "      <td>3.31</td>\n",
       "      <td>Male</td>\n",
       "      <td>No</td>\n",
       "      <td>Sun</td>\n",
       "      <td>Dinner</td>\n",
       "      <td>2</td>\n",
       "    </tr>\n",
       "    <tr>\n",
       "      <th>4</th>\n",
       "      <td>24.59</td>\n",
       "      <td>3.61</td>\n",
       "      <td>Female</td>\n",
       "      <td>No</td>\n",
       "      <td>Sun</td>\n",
       "      <td>Dinner</td>\n",
       "      <td>4</td>\n",
       "    </tr>\n",
       "  </tbody>\n",
       "</table>\n",
       "</div>"
      ],
      "text/plain": [
       "   total_bill   tip     sex smoker  day    time  size\n",
       "0       16.99  1.01  Female     No  Sun  Dinner     2\n",
       "1       10.34  1.66    Male     No  Sun  Dinner     3\n",
       "2       21.01  3.50    Male     No  Sun  Dinner     3\n",
       "3       23.68  3.31    Male     No  Sun  Dinner     2\n",
       "4       24.59  3.61  Female     No  Sun  Dinner     4"
      ]
     },
     "execution_count": 24,
     "metadata": {},
     "output_type": "execute_result"
    }
   ],
   "source": [
    "cust_tip_df = pd.read_csv('https://olympus.greatlearning.in/courses/61567/files/3995007/download?verifier=p69QIUmC4lkILMCB5wxY4qJVV8m4sAF1LFgoPf0r&wrap=1')\n",
    "print(cust_tip_df.shape )\n",
    "cust_tip_df.head()"
   ]
  },
  {
   "cell_type": "markdown",
   "metadata": {
    "id": "M1M1LQJmHRPg"
   },
   "source": [
    "### 1. Print the column names of categorical and numerical variables in the data\n"
   ]
  },
  {
   "cell_type": "code",
   "execution_count": 3,
   "metadata": {
    "colab": {
     "base_uri": "https://localhost:8080/"
    },
    "id": "9_HXZtgpHRPg",
    "outputId": "188ea0e5-dd3e-4a1d-d6a3-597ca340cc83"
   },
   "outputs": [
    {
     "name": "stdout",
     "output_type": "stream",
     "text": [
      "The categorical columns are ['sex', 'smoker', 'day', 'time']\n",
      "The numerical columns are ['total_bill', 'tip', 'size']\n"
     ]
    }
   ],
   "source": [
    "cat_cols = [col for col in cust_tip_df.columns if cust_tip_df[col].dtype==\"O\"]\n",
    "num_cols = [col for col in cust_tip_df.columns if cust_tip_df[col].dtype!=\"O\"]\n",
    "print(\"The categorical columns are {}\".format(cat_cols)) \n",
    "print(\"The numerical columns are {}\".format(num_cols)) "
   ]
  },
  {
   "cell_type": "markdown",
   "metadata": {
    "id": "pRXxzPDhHRPh"
   },
   "source": [
    "### 2. Print the average value of Total bill amount and tips"
   ]
  },
  {
   "cell_type": "code",
   "execution_count": 4,
   "metadata": {
    "colab": {
     "base_uri": "https://localhost:8080/"
    },
    "id": "219rLqRXHRPh",
    "outputId": "de3dc93d-e604-4854-f053-f743b723015b"
   },
   "outputs": [
    {
     "data": {
      "text/html": [
       "<div>\n",
       "<style scoped>\n",
       "    .dataframe tbody tr th:only-of-type {\n",
       "        vertical-align: middle;\n",
       "    }\n",
       "\n",
       "    .dataframe tbody tr th {\n",
       "        vertical-align: top;\n",
       "    }\n",
       "\n",
       "    .dataframe thead th {\n",
       "        text-align: right;\n",
       "    }\n",
       "</style>\n",
       "<table border=\"1\" class=\"dataframe\">\n",
       "  <thead>\n",
       "    <tr style=\"text-align: right;\">\n",
       "      <th></th>\n",
       "      <th>Average</th>\n",
       "    </tr>\n",
       "  </thead>\n",
       "  <tbody>\n",
       "    <tr>\n",
       "      <th>total_bill</th>\n",
       "      <td>19.785943</td>\n",
       "    </tr>\n",
       "    <tr>\n",
       "      <th>tip</th>\n",
       "      <td>2.998279</td>\n",
       "    </tr>\n",
       "  </tbody>\n",
       "</table>\n",
       "</div>"
      ],
      "text/plain": [
       "              Average\n",
       "total_bill  19.785943\n",
       "tip          2.998279"
      ]
     },
     "execution_count": 4,
     "metadata": {},
     "output_type": "execute_result"
    }
   ],
   "source": [
    "col_lst=['total_bill', 'tip']\n",
    "cust_tip_df[col_lst].mean().to_frame(name='Average')"
   ]
  },
  {
   "cell_type": "markdown",
   "metadata": {
    "id": "aecSLSJnHRPh"
   },
   "source": [
    "### 3. Compute the average bill amount for each day\n"
   ]
  },
  {
   "cell_type": "code",
   "execution_count": 6,
   "metadata": {
    "colab": {
     "base_uri": "https://localhost:8080/",
     "height": 202
    },
    "id": "k8qX7LcOHRPh",
    "outputId": "3c06ffef-4657-4566-df3e-7add9ed43997"
   },
   "outputs": [
    {
     "data": {
      "text/html": [
       "<div>\n",
       "<style scoped>\n",
       "    .dataframe tbody tr th:only-of-type {\n",
       "        vertical-align: middle;\n",
       "    }\n",
       "\n",
       "    .dataframe tbody tr th {\n",
       "        vertical-align: top;\n",
       "    }\n",
       "\n",
       "    .dataframe thead th {\n",
       "        text-align: right;\n",
       "    }\n",
       "</style>\n",
       "<table border=\"1\" class=\"dataframe\">\n",
       "  <thead>\n",
       "    <tr style=\"text-align: right;\">\n",
       "      <th></th>\n",
       "      <th>Total_Bill_Avg</th>\n",
       "    </tr>\n",
       "    <tr>\n",
       "      <th>day</th>\n",
       "      <th></th>\n",
       "    </tr>\n",
       "  </thead>\n",
       "  <tbody>\n",
       "    <tr>\n",
       "      <th>Fri</th>\n",
       "      <td>17.151579</td>\n",
       "    </tr>\n",
       "    <tr>\n",
       "      <th>Sat</th>\n",
       "      <td>20.441379</td>\n",
       "    </tr>\n",
       "    <tr>\n",
       "      <th>Sun</th>\n",
       "      <td>21.410000</td>\n",
       "    </tr>\n",
       "    <tr>\n",
       "      <th>Thur</th>\n",
       "      <td>17.682742</td>\n",
       "    </tr>\n",
       "  </tbody>\n",
       "</table>\n",
       "</div>"
      ],
      "text/plain": [
       "      Total_Bill_Avg\n",
       "day                 \n",
       "Fri        17.151579\n",
       "Sat        20.441379\n",
       "Sun        21.410000\n",
       "Thur       17.682742"
      ]
     },
     "execution_count": 6,
     "metadata": {},
     "output_type": "execute_result"
    }
   ],
   "source": [
    "cust_tip_df.groupby('day').agg(Total_Bill_Avg=('total_bill','mean'))"
   ]
  },
  {
   "cell_type": "markdown",
   "metadata": {},
   "source": [
    "Sunday has the highest average total bill amount. And the second highest is Saturday. People spend more at restaurants on the weekends."
   ]
  },
  {
   "cell_type": "markdown",
   "metadata": {
    "id": "j9EfSkEbHRPi"
   },
   "source": [
    "### 4. Which gender is more generous in giving the tip?</b>\n"
   ]
  },
  {
   "cell_type": "code",
   "execution_count": 14,
   "metadata": {
    "colab": {
     "base_uri": "https://localhost:8080/",
     "height": 110
    },
    "id": "bOOByFesHRPi",
    "outputId": "ba96d17f-0d36-495d-f216-e5b81af88306"
   },
   "outputs": [
    {
     "name": "stdout",
     "output_type": "stream",
     "text": [
      "The median tip of Male is 3.00 which is higher than the median tip of female 2.75.\n",
      "Hence Male are more generous in giving the tip.\n"
     ]
    }
   ],
   "source": [
    "summary_df = cust_tip_df.groupby('sex').agg(Tip_Median=('tip','median'))\n",
    "female_median_tip = summary_df.loc['Female','Tip_Median']\n",
    "male_median_tip = summary_df.loc['Male','Tip_Median']\n",
    "\n",
    "if female_median_tip > male_median_tip:\n",
    "    print('The median tip of Female is %0.2f which is higher than the median tip of male %0.2f.\\nHence female are more generous in giving the tip.' %(female_median_tip,male_median_tip))\n",
    "elif female_median_tip < male_median_tip:\n",
    "    print('The median tip of Male is %0.2f which is higher than the median tip of female %0.2f.\\nHence Male are more generous in giving the tip.' %(male_median_tip, female_median_tip))\n",
    "else:\n",
    "    print('Both male and female median tip value is %0.2f and are same.\\nHence both are equally generous in giving tips.')"
   ]
  },
  {
   "cell_type": "markdown",
   "metadata": {
    "id": "CqKcRIFyHRPi"
   },
   "source": [
    "### 5. According to the data, were there more customers for dinner or lunch? </b>\n"
   ]
  },
  {
   "cell_type": "code",
   "execution_count": 13,
   "metadata": {
    "colab": {
     "base_uri": "https://localhost:8080/",
     "height": 141
    },
    "id": "_eXSx5HAHRPi",
    "outputId": "7f547f05-4246-4c55-eeca-e5588beb2b52"
   },
   "outputs": [
    {
     "name": "stdout",
     "output_type": "stream",
     "text": [
      "The No of Customers for Dinner is 463 which is more than the No of Customers for Lunch 164.\n"
     ]
    }
   ],
   "source": [
    "# we group by time and take the sum of size to get no of customers for each time\n",
    "noofcust_df = cust_tip_df.groupby('time').agg(NoOfCustomers=('size','sum'))\n",
    "dinner_noofcust = noofcust_df.loc['Dinner','NoOfCustomers']\n",
    "lunch_noofcust = noofcust_df.loc['Lunch','NoOfCustomers']\n",
    "\n",
    "if dinner_noofcust > lunch_noofcust:\n",
    "    print('The No of Customers for Dinner is %d which is more than the No of Customers for Lunch %d.' %(dinner_noofcust,lunch_noofcust))\n",
    "elif lunch_noofcust > dinner_noofcust:\n",
    "    print('The No of Customers for Lunch is %d which is more than the No of Customers for Dinner %d.' %(lunch_noofcust, dinner_noofcust))\n",
    "else:\n",
    "    print('Both male and female median tip value is %0.2f and are same.\\nHence both are equally generous in giving tips.')"
   ]
  },
  {
   "cell_type": "markdown",
   "metadata": {
    "id": "s-RXR65iHRPj"
   },
   "source": [
    "### 6. comment on the variable 'tip' based on its measure of dispersion "
   ]
  },
  {
   "cell_type": "code",
   "execution_count": 12,
   "metadata": {
    "colab": {
     "base_uri": "https://localhost:8080/",
     "height": 282
    },
    "id": "xpNFU155HRPj",
    "outputId": "109550d7-195b-49e4-d5f4-0f6742791e4c"
   },
   "outputs": [
    {
     "data": {
      "image/png": "[encoded data removed]",
      "text/plain": [
       "<Figure size 432x288 with 1 Axes>"
      ]
     },
     "metadata": {
      "needs_background": "light"
     },
     "output_type": "display_data"
    }
   ],
   "source": [
    "cust_tip_df['tip'].plot(kind='kde')\n",
    "plt.xlim(0)\n",
    "plt.show()"
   ]
  },
  {
   "cell_type": "markdown",
   "metadata": {},
   "source": [
    "Tip is right-skewed hence IQR could be the best choice for measure the dispersion"
   ]
  },
  {
   "cell_type": "code",
   "execution_count": 5,
   "metadata": {
    "colab": {
     "base_uri": "https://localhost:8080/"
    },
    "id": "N5Gty1dhVgN-",
    "outputId": "de46c31b-3c68-4d5a-dcaa-4686d9dae9bb"
   },
   "outputs": [
    {
     "data": {
      "text/plain": [
       "0.25    2.0000\n",
       "0.50    2.9000\n",
       "0.75    3.5625\n",
       "Name: tip, dtype: float64"
      ]
     },
     "execution_count": 5,
     "metadata": {},
     "output_type": "execute_result"
    }
   ],
   "source": [
    "cust_tip_df['tip'].quantile([0.25,0.50,0.75])"
   ]
  },
  {
   "cell_type": "markdown",
   "metadata": {
    "id": "953CExP6VoBa"
   },
   "source": [
    "Tips has a median of 2.9 with the range of middle half of the data being between 2 to 3.6."
   ]
  },
  {
   "cell_type": "markdown",
   "metadata": {
    "id": "hmJWUri5HRPj"
   },
   "source": [
    "### 7. Compare the deviation of Numerical variables and comment which feature is having more deviation"
   ]
  },
  {
   "cell_type": "code",
   "execution_count": 13,
   "metadata": {
    "colab": {
     "base_uri": "https://localhost:8080/",
     "height": 141
    },
    "id": "iWjzsksIkm4b",
    "outputId": "f543df00-9557-4503-802d-4dae2c0e4de8"
   },
   "outputs": [
    {
     "data": {
      "text/html": [
       "<div>\n",
       "<style scoped>\n",
       "    .dataframe tbody tr th:only-of-type {\n",
       "        vertical-align: middle;\n",
       "    }\n",
       "\n",
       "    .dataframe tbody tr th {\n",
       "        vertical-align: top;\n",
       "    }\n",
       "\n",
       "    .dataframe thead th {\n",
       "        text-align: right;\n",
       "    }\n",
       "</style>\n",
       "<table border=\"1\" class=\"dataframe\">\n",
       "  <thead>\n",
       "    <tr style=\"text-align: right;\">\n",
       "      <th></th>\n",
       "      <th>coeff_var</th>\n",
       "    </tr>\n",
       "  </thead>\n",
       "  <tbody>\n",
       "    <tr>\n",
       "      <th>total_bill</th>\n",
       "      <td>0.449013</td>\n",
       "    </tr>\n",
       "    <tr>\n",
       "      <th>tip</th>\n",
       "      <td>0.460531</td>\n",
       "    </tr>\n",
       "    <tr>\n",
       "      <th>size</th>\n",
       "      <td>0.369366</td>\n",
       "    </tr>\n",
       "  </tbody>\n",
       "</table>\n",
       "</div>"
      ],
      "text/plain": [
       "            coeff_var\n",
       "total_bill   0.449013\n",
       "tip          0.460531\n",
       "size         0.369366"
      ]
     },
     "execution_count": 13,
     "metadata": {},
     "output_type": "execute_result"
    }
   ],
   "source": [
    "# select only the numerical columns\n",
    "num_data = cust_tip_df.select_dtypes(include=np.number)\n",
    "\n",
    "# define function to calculate Coefficient of Variance\n",
    "cv = lambda x: np.std(x) / np.mean(x)\n",
    "\n",
    "num_data.apply(cv).to_frame(name='coeff_var')"
   ]
  },
  {
   "cell_type": "markdown",
   "metadata": {},
   "source": [
    "Tip is more dispersed around the mean than Total Bill and Size. And Total Bill is more dispersed around the mean than size."
   ]
  },
  {
   "cell_type": "markdown",
   "metadata": {
    "id": "s8vd7UeFHRPj"
   },
   "source": [
    "### 8. Plot the distribution of bill amount and tip and comment about its normality"
   ]
  },
  {
   "cell_type": "code",
   "execution_count": 21,
   "metadata": {
    "colab": {
     "base_uri": "https://localhost:8080/",
     "height": 544
    },
    "id": "yxJDp3nCHRPk",
    "outputId": "82f904ad-91dc-42ac-c9b0-ad59fd3b55ed"
   },
   "outputs": [
    {
     "data": {
      "image/png": "[encoded data removed]",
      "text/plain": [
       "<Figure size 1080x360 with 2 Axes>"
      ]
     },
     "metadata": {
      "needs_background": "light"
     },
     "output_type": "display_data"
    }
   ],
   "source": [
    "fig,axes = plt.subplots(1,2, figsize=(15,5))\n",
    "for i,col in enumerate(['total_bill','tip']):\n",
    "    cust_tip_df[col].plot(kind='kde', ax=axes[i])\n",
    "    axes[i].title.set_text(col)\n",
    "    axes[i].set_xlim(0)\n",
    "plt.show()"
   ]
  },
  {
   "cell_type": "markdown",
   "metadata": {
    "id": "962RQCNhzNz6"
   },
   "source": [
    "The plots are righ-skewed."
   ]
  },
  {
   "cell_type": "code",
   "execution_count": 14,
   "metadata": {},
   "outputs": [
    {
     "data": {
      "text/html": [
       "<div>\n",
       "<style scoped>\n",
       "    .dataframe tbody tr th:only-of-type {\n",
       "        vertical-align: middle;\n",
       "    }\n",
       "\n",
       "    .dataframe tbody tr th {\n",
       "        vertical-align: top;\n",
       "    }\n",
       "\n",
       "    .dataframe thead th {\n",
       "        text-align: right;\n",
       "    }\n",
       "</style>\n",
       "<table border=\"1\" class=\"dataframe\">\n",
       "  <thead>\n",
       "    <tr style=\"text-align: right;\">\n",
       "      <th></th>\n",
       "      <th>total_bill</th>\n",
       "      <th>tip</th>\n",
       "    </tr>\n",
       "  </thead>\n",
       "  <tbody>\n",
       "    <tr>\n",
       "      <th>mean</th>\n",
       "      <td>19.785943</td>\n",
       "      <td>2.998279</td>\n",
       "    </tr>\n",
       "    <tr>\n",
       "      <th>median</th>\n",
       "      <td>17.795000</td>\n",
       "      <td>2.900000</td>\n",
       "    </tr>\n",
       "    <tr>\n",
       "      <th>mode</th>\n",
       "      <td>13.420000</td>\n",
       "      <td>2.000000</td>\n",
       "    </tr>\n",
       "  </tbody>\n",
       "</table>\n",
       "</div>"
      ],
      "text/plain": [
       "        total_bill       tip\n",
       "mean     19.785943  2.998279\n",
       "median   17.795000  2.900000\n",
       "mode     13.420000  2.000000"
      ]
     },
     "execution_count": 14,
     "metadata": {},
     "output_type": "execute_result"
    }
   ],
   "source": [
    "measures_df = pd.DataFrame()\n",
    "measures_df = measures_df.append(cust_tip_df[['total_bill','tip']].mean().to_frame(name='mean').T)\n",
    "measures_df=measures_df.append(cust_tip_df[['total_bill','tip']].median().to_frame(name='median').T)\n",
    "mode_df = cust_tip_df[['total_bill','tip']].mode()\n",
    "mode_df.index=['mode']\n",
    "measures_df = measures_df.append(mode_df)\n",
    "measures_df"
   ]
  },
  {
   "cell_type": "markdown",
   "metadata": {
    "id": "xq5OikDIytOj"
   },
   "source": [
    "The mean, median and mode are same for normal distribution. Here they are not same."
   ]
  },
  {
   "cell_type": "code",
   "execution_count": 15,
   "metadata": {
    "colab": {
     "base_uri": "https://localhost:8080/"
    },
    "id": "ACy4H1SlumCf",
    "outputId": "041ac94b-0f2b-4407-dbe4-9e34a724abf6"
   },
   "outputs": [
    {
     "data": {
      "text/html": [
       "<div>\n",
       "<style scoped>\n",
       "    .dataframe tbody tr th:only-of-type {\n",
       "        vertical-align: middle;\n",
       "    }\n",
       "\n",
       "    .dataframe tbody tr th {\n",
       "        vertical-align: top;\n",
       "    }\n",
       "\n",
       "    .dataframe thead th {\n",
       "        text-align: right;\n",
       "    }\n",
       "</style>\n",
       "<table border=\"1\" class=\"dataframe\">\n",
       "  <thead>\n",
       "    <tr style=\"text-align: right;\">\n",
       "      <th></th>\n",
       "      <th>skewness</th>\n",
       "    </tr>\n",
       "  </thead>\n",
       "  <tbody>\n",
       "    <tr>\n",
       "      <th>total_bill</th>\n",
       "      <td>1.133213</td>\n",
       "    </tr>\n",
       "    <tr>\n",
       "      <th>tip</th>\n",
       "      <td>1.465451</td>\n",
       "    </tr>\n",
       "  </tbody>\n",
       "</table>\n",
       "</div>"
      ],
      "text/plain": [
       "            skewness\n",
       "total_bill  1.133213\n",
       "tip         1.465451"
      ]
     },
     "execution_count": 15,
     "metadata": {},
     "output_type": "execute_result"
    }
   ],
   "source": [
    "cust_tip_df[['total_bill','tip']].skew().to_frame(name='skewness')"
   ]
  },
  {
   "cell_type": "markdown",
   "metadata": {
    "id": "02rREDqhy1zr"
   },
   "source": [
    "Skewness is close to 0 for normal distribution. Here the skewness is > 1."
   ]
  },
  {
   "cell_type": "code",
   "execution_count": 23,
   "metadata": {
    "colab": {
     "base_uri": "https://localhost:8080/"
    },
    "id": "0vMKJwdHvmXW",
    "outputId": "da078017-075b-4578-b3b8-a7e6e5ff38ef"
   },
   "outputs": [
    {
     "name": "stdout",
     "output_type": "stream",
     "text": [
      "total_bill :\n",
      "The percentage of data that lies between plus or minus 1 SD is 72.1% \n",
      "The percentage of data that lies between plus or minus 2 SD is 94.3% \n",
      "The percentage of data that lies between plus or minus 3 SD is 98.4%\n",
      "\n",
      "The mean is 19.79 and the median is 17.80 \n",
      "The skewness is 1.13\n",
      "\n",
      "tip :\n",
      "The percentage of data that lies between plus or minus 1 SD is 74.6% \n",
      "The percentage of data that lies between plus or minus 2 SD is 95.9% \n",
      "The percentage of data that lies between plus or minus 3 SD is 98.8%\n",
      "\n",
      "The mean is 3.00 and the median is 2.90 \n",
      "The skewness is 1.46\n",
      "\n"
     ]
    }
   ],
   "source": [
    "def normaility_check(data, col):\n",
    "    mu = np.mean(data)\n",
    "    med = np.median(data)\n",
    "    sk = stats.skew(data)\n",
    "    sd = np.std(data, ddof=1)\n",
    "    onesd = [x for x in data if x >= mu-sd and x <= mu+sd]\n",
    "    twosd = [x for x in data if x >= mu-2*sd and x <= mu+2*sd]\n",
    "    threesd = [x for x in data if x >= mu-3*sd and x <= mu+3*sd]\n",
    "    sml = len(data)\n",
    "    onesd_pct = len(onesd)/sml*100\n",
    "    twosd_pct = len(twosd)/sml*100\n",
    "    threesd_pct = len(threesd)/sml*100\n",
    "    print(col,':')\n",
    "    print(\"The percentage of data that lies between plus or minus 1 SD is %0.1f%% \" % onesd_pct)\n",
    "    print(\"The percentage of data that lies between plus or minus 2 SD is %0.1f%% \" % twosd_pct)\n",
    "    print(\"The percentage of data that lies between plus or minus 3 SD is %0.1f%%\\n\" % threesd_pct)\n",
    "    print(\"The mean is %0.2f and the median is %0.2f \" % (mu,med))\n",
    "    print(\"The skewness is %0.2f\\n\" % sk)\n",
    "    \n",
    "for col in ['total_bill','tip']:\n",
    "    normaility_check(cust_tip_df[col], col)"
   ]
  },
  {
   "cell_type": "markdown",
   "metadata": {
    "id": "F0dbRXmbxzYU"
   },
   "source": [
    "**Total Bill**\n",
    "\n",
    "The skewness greater than 0.5. Hence it is not normally distributed.\n",
    "\n",
    "**Tip**\n",
    "\n",
    "The %age of data that lies between 1 SD is 74.6% which is 7% greater than standard values (68%) of normal distribution.\n",
    "The skewness is greater than 0.5. Hence it is not normally distributed. "
   ]
  },
  {
   "cell_type": "markdown",
   "metadata": {
    "id": "d97xrc9GHRPk"
   },
   "source": [
    "### 9. Is the variable 'total_bill' skewed? If yes, identify the type of skewness. Support your answer with a plot\n"
   ]
  },
  {
   "cell_type": "code",
   "execution_count": 17,
   "metadata": {
    "colab": {
     "base_uri": "https://localhost:8080/",
     "height": 281
    },
    "id": "M8Bxk616HRPk",
    "outputId": "7c1261fa-6d11-44a3-e7fe-d4f90941ab73"
   },
   "outputs": [
    {
     "data": {
      "image/png": "[encoded data removed]",
      "text/plain": [
       "<Figure size 432x288 with 1 Axes>"
      ]
     },
     "metadata": {
      "needs_background": "light"
     },
     "output_type": "display_data"
    }
   ],
   "source": [
    "# type your code here\n",
    "cust_tip_df['total_bill'].plot(kind='kde')\n",
    "plt.title('total_bill')\n",
    "plt.show()"
   ]
  },
  {
   "cell_type": "code",
   "execution_count": 18,
   "metadata": {
    "colab": {
     "base_uri": "https://localhost:8080/"
    },
    "id": "abLszwMJ2IXl",
    "outputId": "f7b10720-fac2-4b29-d588-a8437743db34"
   },
   "outputs": [
    {
     "data": {
      "text/plain": [
       "1.1332130376158205"
      ]
     },
     "execution_count": 18,
     "metadata": {},
     "output_type": "execute_result"
    }
   ],
   "source": [
    "cust_tip_df['total_bill'].skew()"
   ]
  },
  {
   "cell_type": "markdown",
   "metadata": {
    "id": "uEcuLN5_z52Y"
   },
   "source": [
    "Yes, Total Bill is skewed and it is righ-skewed. Sknewness > 1 indicates it is highly skewed."
   ]
  },
  {
   "cell_type": "markdown",
   "metadata": {
    "id": "dcEpaEt6HRPk"
   },
   "source": [
    "### 10. Apply the suitable transformation to reduce the skew of the variable \"total_bill\""
   ]
  },
  {
   "cell_type": "code",
   "execution_count": 44,
   "metadata": {
    "colab": {
     "base_uri": "https://localhost:8080/"
    },
    "id": "DdhS1gO7HRPk",
    "outputId": "248b9c77-79d2-4586-80b6-60ccdfb94fe4"
   },
   "outputs": [
    {
     "name": "stdout",
     "output_type": "stream",
     "text": [
      "The skewness after applying boxcox transform is 0.00\n",
      "The skewness after applying 0.1 power is 0.04\n"
     ]
    }
   ],
   "source": [
    "total_bill_power = np.power(cust_tip_df['total_bill'],0.1) \n",
    "total_bill_power.name = 'power.1'\n",
    "total_bill_boxcox = pd.Series(stats.boxcox(cust_tip_df['total_bill'])[0], name='boxcox')\n",
    "print(\"The skewness after applying boxcox transform is %.2f\" % total_bill_boxcox.skew())         \n",
    "print(\"The skewness after applying 0.1 power is %.2f\" % total_bill_power.skew())    "
   ]
  },
  {
   "cell_type": "markdown",
   "metadata": {},
   "source": [
    "BoxCox Transformation is the most suitable Transformation with skewness almost 0. The next suitable transformation is to the power of 0.1"
   ]
  },
  {
   "cell_type": "code",
   "execution_count": 30,
   "metadata": {
    "colab": {
     "base_uri": "https://localhost:8080/",
     "height": 334
    },
    "id": "hA9PnutiHRPk",
    "outputId": "b13a1bfe-80e3-424a-f0bf-dea660904491"
   },
   "outputs": [
    {
     "data": {
      "image/png": "[encoded data removed]",
      "text/plain": [
       "<Figure size 1440x360 with 2 Axes>"
      ]
     },
     "metadata": {
      "needs_background": "light"
     },
     "output_type": "display_data"
    }
   ],
   "source": [
    "fig,axes = plt.subplots(1,2,figsize=(20,5))\n",
    "for i,col in enumerate(total_bill_transform_df):\n",
    "    sns.kdeplot(x=total_bill_transform_df[col], ax=axes[i])\n",
    "plt.show()"
   ]
  },
  {
   "cell_type": "markdown",
   "metadata": {
    "id": "dQg6TGhsHRPk"
   },
   "source": [
    "### 11. Analyze the relation between bill_amount and tips"
   ]
  },
  {
   "cell_type": "code",
   "execution_count": 32,
   "metadata": {
    "colab": {
     "base_uri": "https://localhost:8080/",
     "height": 296
    },
    "id": "eJbDO4AF_fRf",
    "outputId": "359069ec-0b42-491d-ad0b-84b1f6d85d69"
   },
   "outputs": [
    {
     "data": {
      "text/plain": [
       "<AxesSubplot:xlabel='total_bill', ylabel='tip'>"
      ]
     },
     "execution_count": 32,
     "metadata": {},
     "output_type": "execute_result"
    },
    {
     "data": {
      "image/png": "[encoded data removed]",
      "text/plain": [
       "<Figure size 432x288 with 1 Axes>"
      ]
     },
     "metadata": {
      "needs_background": "light"
     },
     "output_type": "display_data"
    }
   ],
   "source": [
    "sns.regplot(x='total_bill', y='tip', data=cust_tip_df)"
   ]
  },
  {
   "cell_type": "code",
   "execution_count": 22,
   "metadata": {
    "colab": {
     "base_uri": "https://localhost:8080/"
    },
    "id": "nOUPXot9A6wn",
    "outputId": "c5d402e7-ac76-48e1-e10c-41d943af0c4a"
   },
   "outputs": [
    {
     "data": {
      "text/plain": [
       "(0.6757341092113645, 6.692470646863477e-34)"
      ]
     },
     "execution_count": 22,
     "metadata": {},
     "output_type": "execute_result"
    }
   ],
   "source": [
    "stats.pearsonr(cust_tip_df['tip'], cust_tip_df['total_bill'])"
   ]
  },
  {
   "cell_type": "markdown",
   "metadata": {
    "id": "SyR1byYOBYgs"
   },
   "source": [
    "[0-0.19 - very weak, 0.2-0.39 - weak, 0.40-0.59 - moderate, 0.6-0.79 - strong, 0.8-1 - very strong correlation]\n",
    "\n",
    "There is a strong positive linear correlation between tips and total bill.\n",
    "As the total bill increases tips also increases at a little slower rate."
   ]
  },
  {
   "cell_type": "markdown",
   "metadata": {
    "id": "BoFaKsWtHRPl"
   },
   "source": [
    "### 12. Find the covaraiance and correlation between bill_amount and tips. Infer the results"
   ]
  },
  {
   "cell_type": "code",
   "execution_count": 23,
   "metadata": {
    "colab": {
     "base_uri": "https://localhost:8080/"
    },
    "id": "qsuhXwbvXeoK",
    "outputId": "abb31dff-0548-444f-8819-c576e225cf47"
   },
   "outputs": [
    {
     "name": "stdout",
     "output_type": "stream",
     "text": [
      "The covariance of total bill amount and tips is 8.32\n"
     ]
    }
   ],
   "source": [
    "covar = np.cov(cust_tip_df['tip'], cust_tip_df['total_bill'])[0,1]\n",
    "print('The covariance of total bill amount and tips is %.2f' % covar)"
   ]
  },
  {
   "cell_type": "code",
   "execution_count": 24,
   "metadata": {
    "colab": {
     "base_uri": "https://localhost:8080/"
    },
    "id": "V5hq_GFfHRPl",
    "outputId": "cd27027b-7bcb-42f2-eda8-e0803f76428c"
   },
   "outputs": [
    {
     "name": "stdout",
     "output_type": "stream",
     "text": [
      "The correlation of total bill amount and tips is 0.68\n"
     ]
    }
   ],
   "source": [
    "corr,_ = stats.pearsonr(cust_tip_df['tip'], cust_tip_df['total_bill'])\n",
    "print('The correlation of total bill amount and tips is %.2f' % corr)"
   ]
  },
  {
   "cell_type": "markdown",
   "metadata": {
    "id": "xKMpzwsnfxmb"
   },
   "source": [
    "A positive covariance indicates there is positive relationship between tips and total bill ie as the total bill increases the tips also increases. \n",
    "\n",
    "To determine the strength of this positive relationship we compute the correlation. The correlation coefficient is between 0.6 and 0.8, which indicates there is a strong positive linear relationship between them."
   ]
  },
  {
   "cell_type": "markdown",
   "metadata": {
    "id": "WhnZSvRWHRPl"
   },
   "source": [
    "### 13. Analyze the relation between bill_amount, tips and sex"
   ]
  },
  {
   "cell_type": "markdown",
   "metadata": {},
   "source": [
    "#### Scatter Plot"
   ]
  },
  {
   "cell_type": "code",
   "execution_count": 30,
   "metadata": {
    "colab": {
     "base_uri": "https://localhost:8080/",
     "height": 296
    },
    "id": "FDjDuJMorGii",
    "outputId": "727678f3-d6cf-48d0-86e3-abdf86882a00"
   },
   "outputs": [
    {
     "data": {
      "image/png": "[encoded data removed]",
      "text/plain": [
       "<Figure size 432.125x360 with 1 Axes>"
      ]
     },
     "metadata": {
      "needs_background": "light"
     },
     "output_type": "display_data"
    }
   ],
   "source": [
    "sns.lmplot(x='total_bill', y='tip', hue='sex', data=cust_tip_df)\n",
    "plt.show()"
   ]
  },
  {
   "cell_type": "markdown",
   "metadata": {
    "id": "nNFUiSvQqdcr"
   },
   "source": [
    "In general there is not much difference between the total bill and tip relationship based on sex as the male and female regression line almost overlap. \n",
    "\n",
    "In rare cases, generally males pay extremely high bill amount and also provide extremely high tips.\n",
    "\n",
    "There is a slight difference in the rate of increase of tips as the total_bill increases between Male and Female. The rate at which tips increase as the total_bill increases is slightly higher for males."
   ]
  },
  {
   "cell_type": "markdown",
   "metadata": {
    "id": "6N5QYOsQHRPl"
   },
   "source": [
    "### 14. Find the average number of customer for dinner and Lunch for each day "
   ]
  },
  {
   "cell_type": "code",
   "execution_count": 16,
   "metadata": {
    "colab": {
     "base_uri": "https://localhost:8080/",
     "height": 232
    },
    "id": "C76RaG7nHRPl",
    "outputId": "5cf93e6b-0d2c-4b70-e49d-dddf16e13949"
   },
   "outputs": [
    {
     "data": {
      "text/html": [
       "<div>\n",
       "<style scoped>\n",
       "    .dataframe tbody tr th:only-of-type {\n",
       "        vertical-align: middle;\n",
       "    }\n",
       "\n",
       "    .dataframe tbody tr th {\n",
       "        vertical-align: top;\n",
       "    }\n",
       "\n",
       "    .dataframe thead th {\n",
       "        text-align: right;\n",
       "    }\n",
       "</style>\n",
       "<table border=\"1\" class=\"dataframe\">\n",
       "  <thead>\n",
       "    <tr style=\"text-align: right;\">\n",
       "      <th></th>\n",
       "      <th>Avg_NoofCustomers</th>\n",
       "    </tr>\n",
       "    <tr>\n",
       "      <th>time</th>\n",
       "      <th></th>\n",
       "    </tr>\n",
       "  </thead>\n",
       "  <tbody>\n",
       "    <tr>\n",
       "      <th>Dinner</th>\n",
       "      <td>116.0</td>\n",
       "    </tr>\n",
       "    <tr>\n",
       "      <th>Lunch</th>\n",
       "      <td>82.0</td>\n",
       "    </tr>\n",
       "  </tbody>\n",
       "</table>\n",
       "</div>"
      ],
      "text/plain": [
       "        Avg_NoofCustomers\n",
       "time                     \n",
       "Dinner              116.0\n",
       "Lunch                82.0"
      ]
     },
     "execution_count": 16,
     "metadata": {},
     "output_type": "execute_result"
    }
   ],
   "source": [
    "cust_tip_df.pivot_table(index='day',columns='time', values='size', aggfunc=np.sum).mean().round().to_frame(name='Avg_NoofCustomers')"
   ]
  },
  {
   "cell_type": "markdown",
   "metadata": {},
   "source": [
    "On an average 116 customers are expected for Dinner for each day and 82 customers are expected for Lunch for each day. \n",
    "\n",
    "The number of customers expected for Dinner is higher than the  number of customers expected for Lunch."
   ]
  },
  {
   "cell_type": "markdown",
   "metadata": {},
   "source": [
    "\n",
    "\n",
    "### 15. Find the average bill-amount  for dinner and Lunch for each day"
   ]
  },
  {
   "cell_type": "code",
   "execution_count": 18,
   "metadata": {},
   "outputs": [
    {
     "data": {
      "text/html": [
       "<div>\n",
       "<style scoped>\n",
       "    .dataframe tbody tr th:only-of-type {\n",
       "        vertical-align: middle;\n",
       "    }\n",
       "\n",
       "    .dataframe tbody tr th {\n",
       "        vertical-align: top;\n",
       "    }\n",
       "\n",
       "    .dataframe thead th {\n",
       "        text-align: right;\n",
       "    }\n",
       "</style>\n",
       "<table border=\"1\" class=\"dataframe\">\n",
       "  <thead>\n",
       "    <tr style=\"text-align: right;\">\n",
       "      <th></th>\n",
       "      <th>Average_Bill_Amount</th>\n",
       "    </tr>\n",
       "    <tr>\n",
       "      <th>time</th>\n",
       "      <th></th>\n",
       "    </tr>\n",
       "  </thead>\n",
       "  <tbody>\n",
       "    <tr>\n",
       "      <th>Dinner</th>\n",
       "      <td>915.075</td>\n",
       "    </tr>\n",
       "    <tr>\n",
       "      <th>Lunch</th>\n",
       "      <td>583.735</td>\n",
       "    </tr>\n",
       "  </tbody>\n",
       "</table>\n",
       "</div>"
      ],
      "text/plain": [
       "        Average_Bill_Amount\n",
       "time                       \n",
       "Dinner              915.075\n",
       "Lunch               583.735"
      ]
     },
     "execution_count": 18,
     "metadata": {},
     "output_type": "execute_result"
    }
   ],
   "source": [
    "cust_tip_df.pivot_table(index='day', columns='time', values='total_bill', aggfunc=np.sum).mean().to_frame(name='Average_Bill_Amount')"
   ]
  },
  {
   "cell_type": "markdown",
   "metadata": {},
   "source": [
    "The average Total bill amount is higher for Dinner."
   ]
  },
  {
   "cell_type": "markdown",
   "metadata": {
    "id": "6moOJA1aHRPl"
   },
   "source": [
    "### 16. Comment about the tips given by the smokers"
   ]
  },
  {
   "cell_type": "markdown",
   "metadata": {},
   "source": [
    "#### Box Plot"
   ]
  },
  {
   "cell_type": "code",
   "execution_count": 28,
   "metadata": {
    "colab": {
     "base_uri": "https://localhost:8080/",
     "height": 296
    },
    "id": "ibJwvdpaHRPl",
    "outputId": "56ee75ca-ce0f-4984-c4df-df716be69946"
   },
   "outputs": [
    {
     "data": {
      "text/plain": [
       "<AxesSubplot:xlabel='smoker', ylabel='tip'>"
      ]
     },
     "execution_count": 28,
     "metadata": {},
     "output_type": "execute_result"
    },
    {
     "data": {
      "image/png": "[encoded data removed]",
      "text/plain": [
       "<Figure size 432x288 with 1 Axes>"
      ]
     },
     "metadata": {
      "needs_background": "light"
     },
     "output_type": "display_data"
    }
   ],
   "source": [
    "sns.boxplot(x='smoker',y='tip', data=cust_tip_df)"
   ]
  },
  {
   "cell_type": "markdown",
   "metadata": {},
   "source": [
    "#### Group by"
   ]
  },
  {
   "cell_type": "code",
   "execution_count": 29,
   "metadata": {},
   "outputs": [
    {
     "data": {
      "text/html": [
       "<div>\n",
       "<style scoped>\n",
       "    .dataframe tbody tr th:only-of-type {\n",
       "        vertical-align: middle;\n",
       "    }\n",
       "\n",
       "    .dataframe tbody tr th {\n",
       "        vertical-align: top;\n",
       "    }\n",
       "\n",
       "    .dataframe thead th {\n",
       "        text-align: right;\n",
       "    }\n",
       "</style>\n",
       "<table border=\"1\" class=\"dataframe\">\n",
       "  <thead>\n",
       "    <tr style=\"text-align: right;\">\n",
       "      <th></th>\n",
       "      <th>Tip_Median</th>\n",
       "    </tr>\n",
       "    <tr>\n",
       "      <th>smoker</th>\n",
       "      <th></th>\n",
       "    </tr>\n",
       "  </thead>\n",
       "  <tbody>\n",
       "    <tr>\n",
       "      <th>No</th>\n",
       "      <td>2.74</td>\n",
       "    </tr>\n",
       "    <tr>\n",
       "      <th>Yes</th>\n",
       "      <td>3.00</td>\n",
       "    </tr>\n",
       "  </tbody>\n",
       "</table>\n",
       "</div>"
      ],
      "text/plain": [
       "        Tip_Median\n",
       "smoker            \n",
       "No            2.74\n",
       "Yes           3.00"
      ]
     },
     "execution_count": 29,
     "metadata": {},
     "output_type": "execute_result"
    }
   ],
   "source": [
    "cust_tip_df.groupby('smoker').agg(Tip_Median=('tip','median'))"
   ]
  },
  {
   "cell_type": "markdown",
   "metadata": {
    "id": "tj4wTWNpx_pe"
   },
   "source": [
    "Median is used as the data has outliers. The median tips of smokers are slightly higher than non-smokers. Hence Smokers tend to tip slightly more than non-smokers.\n",
    "\n",
    "Non-smokers are more likely to make extremely high tips."
   ]
  },
  {
   "cell_type": "markdown",
   "metadata": {
    "id": "1ddfmFXpHRPl"
   },
   "source": [
    "### 17.Create a Pivot table with sex and smokers with their average tip amount"
   ]
  },
  {
   "cell_type": "code",
   "execution_count": 19,
   "metadata": {},
   "outputs": [
    {
     "data": {
      "text/html": [
       "<div>\n",
       "<style scoped>\n",
       "    .dataframe tbody tr th:only-of-type {\n",
       "        vertical-align: middle;\n",
       "    }\n",
       "\n",
       "    .dataframe tbody tr th {\n",
       "        vertical-align: top;\n",
       "    }\n",
       "\n",
       "    .dataframe thead th {\n",
       "        text-align: right;\n",
       "    }\n",
       "</style>\n",
       "<table border=\"1\" class=\"dataframe\">\n",
       "  <thead>\n",
       "    <tr style=\"text-align: right;\">\n",
       "      <th>smoker</th>\n",
       "      <th>No</th>\n",
       "      <th>Yes</th>\n",
       "    </tr>\n",
       "    <tr>\n",
       "      <th>sex</th>\n",
       "      <th></th>\n",
       "      <th></th>\n",
       "    </tr>\n",
       "  </thead>\n",
       "  <tbody>\n",
       "    <tr>\n",
       "      <th>Female</th>\n",
       "      <td>2.77</td>\n",
       "      <td>2.93</td>\n",
       "    </tr>\n",
       "    <tr>\n",
       "      <th>Male</th>\n",
       "      <td>3.11</td>\n",
       "      <td>3.05</td>\n",
       "    </tr>\n",
       "  </tbody>\n",
       "</table>\n",
       "</div>"
      ],
      "text/plain": [
       "smoker    No   Yes\n",
       "sex               \n",
       "Female  2.77  2.93\n",
       "Male    3.11  3.05"
      ]
     },
     "execution_count": 19,
     "metadata": {},
     "output_type": "execute_result"
    }
   ],
   "source": [
    "cust_tip_df.pivot_table(index='sex', columns='smoker', values='tip', aggfunc=np.mean).round(2)"
   ]
  },
  {
   "cell_type": "markdown",
   "metadata": {},
   "source": [
    "The avg tip of non-smoker male is the highest. Hence non-smoker Male is likely to tip more.\n",
    "\n",
    "The average tip of non-smoker female is the lowest. Hence non-smoker Female is likely to tip less."
   ]
  },
  {
   "cell_type": "markdown",
   "metadata": {
    "id": "WD0gY3_rHRPm"
   },
   "source": [
    "### 18. Compute the tips per person for each observation (tips/size)"
   ]
  },
  {
   "cell_type": "code",
   "execution_count": 31,
   "metadata": {
    "colab": {
     "base_uri": "https://localhost:8080/",
     "height": 202
    },
    "id": "btN-GJgeHRPm",
    "outputId": "5d3efbb7-9380-4dea-8471-8d1b6f82c701"
   },
   "outputs": [
    {
     "data": {
      "text/html": [
       "<div>\n",
       "<style scoped>\n",
       "    .dataframe tbody tr th:only-of-type {\n",
       "        vertical-align: middle;\n",
       "    }\n",
       "\n",
       "    .dataframe tbody tr th {\n",
       "        vertical-align: top;\n",
       "    }\n",
       "\n",
       "    .dataframe thead th {\n",
       "        text-align: right;\n",
       "    }\n",
       "</style>\n",
       "<table border=\"1\" class=\"dataframe\">\n",
       "  <thead>\n",
       "    <tr style=\"text-align: right;\">\n",
       "      <th></th>\n",
       "      <th>total_bill</th>\n",
       "      <th>tip</th>\n",
       "      <th>sex</th>\n",
       "      <th>smoker</th>\n",
       "      <th>day</th>\n",
       "      <th>time</th>\n",
       "      <th>size</th>\n",
       "      <th>tip_per_person</th>\n",
       "    </tr>\n",
       "  </thead>\n",
       "  <tbody>\n",
       "    <tr>\n",
       "      <th>0</th>\n",
       "      <td>16.99</td>\n",
       "      <td>1.01</td>\n",
       "      <td>Female</td>\n",
       "      <td>No</td>\n",
       "      <td>Sun</td>\n",
       "      <td>Dinner</td>\n",
       "      <td>2</td>\n",
       "      <td>0.505000</td>\n",
       "    </tr>\n",
       "    <tr>\n",
       "      <th>1</th>\n",
       "      <td>10.34</td>\n",
       "      <td>1.66</td>\n",
       "      <td>Male</td>\n",
       "      <td>No</td>\n",
       "      <td>Sun</td>\n",
       "      <td>Dinner</td>\n",
       "      <td>3</td>\n",
       "      <td>0.553333</td>\n",
       "    </tr>\n",
       "    <tr>\n",
       "      <th>2</th>\n",
       "      <td>21.01</td>\n",
       "      <td>3.50</td>\n",
       "      <td>Male</td>\n",
       "      <td>No</td>\n",
       "      <td>Sun</td>\n",
       "      <td>Dinner</td>\n",
       "      <td>3</td>\n",
       "      <td>1.166667</td>\n",
       "    </tr>\n",
       "    <tr>\n",
       "      <th>3</th>\n",
       "      <td>23.68</td>\n",
       "      <td>3.31</td>\n",
       "      <td>Male</td>\n",
       "      <td>No</td>\n",
       "      <td>Sun</td>\n",
       "      <td>Dinner</td>\n",
       "      <td>2</td>\n",
       "      <td>1.655000</td>\n",
       "    </tr>\n",
       "    <tr>\n",
       "      <th>4</th>\n",
       "      <td>24.59</td>\n",
       "      <td>3.61</td>\n",
       "      <td>Female</td>\n",
       "      <td>No</td>\n",
       "      <td>Sun</td>\n",
       "      <td>Dinner</td>\n",
       "      <td>4</td>\n",
       "      <td>0.902500</td>\n",
       "    </tr>\n",
       "  </tbody>\n",
       "</table>\n",
       "</div>"
      ],
      "text/plain": [
       "   total_bill   tip     sex smoker  day    time  size  tip_per_person\n",
       "0       16.99  1.01  Female     No  Sun  Dinner     2        0.505000\n",
       "1       10.34  1.66    Male     No  Sun  Dinner     3        0.553333\n",
       "2       21.01  3.50    Male     No  Sun  Dinner     3        1.166667\n",
       "3       23.68  3.31    Male     No  Sun  Dinner     2        1.655000\n",
       "4       24.59  3.61  Female     No  Sun  Dinner     4        0.902500"
      ]
     },
     "execution_count": 31,
     "metadata": {},
     "output_type": "execute_result"
    }
   ],
   "source": [
    "cust_tip_df['tip_per_person'] = cust_tip_df['tip']/cust_tip_df['size']\n",
    "cust_tip_df.head()"
   ]
  },
  {
   "cell_type": "markdown",
   "metadata": {
    "id": "TDJdVW8lHRPm"
   },
   "source": [
    "### 19. Compute the kurtosis value of each numerical variable and comment about it"
   ]
  },
  {
   "cell_type": "code",
   "execution_count": 32,
   "metadata": {
    "colab": {
     "base_uri": "https://localhost:8080/"
    },
    "id": "H-Ga9lXkHRPm",
    "outputId": "3a6d610e-10a0-4653-c8e1-f2a558845ac5"
   },
   "outputs": [
    {
     "data": {
      "text/plain": [
       "total_bill    1.218484\n",
       "tip           3.648376\n",
       "size          1.731700\n",
       "dtype: float64"
      ]
     },
     "execution_count": 32,
     "metadata": {},
     "output_type": "execute_result"
    }
   ],
   "source": [
    "num_data.kurtosis()"
   ]
  },
  {
   "cell_type": "markdown",
   "metadata": {
    "id": "8N54Zph23HFU"
   },
   "source": [
    "Tips has heavier tails (kurtosis>3) indicating leptokurtic. \n",
    "\n",
    "Total bill and size have lighter tails (kurtosis < 3) indicating platokurtic"
   ]
  },
  {
   "cell_type": "markdown",
   "metadata": {
    "id": "Cy3pyQFnHRPm"
   },
   "source": [
    "### 20. Check whether how much percentage of data exists between +/-1 sigma from the mean of the column total_bill"
   ]
  },
  {
   "cell_type": "code",
   "execution_count": 22,
   "metadata": {
    "colab": {
     "base_uri": "https://localhost:8080/"
    },
    "id": "Tww_yrBOHRPm",
    "outputId": "c12c82cf-b98c-4e6b-f94b-6be524d591bc"
   },
   "outputs": [
    {
     "name": "stdout",
     "output_type": "stream",
     "text": [
      "72.1% of customers have total bill between +1 Sigma 28.7 and -1 Sigma 10.9\n"
     ]
    }
   ],
   "source": [
    "bill_std = cust_tip_df['total_bill'].std()\n",
    "bill_mean = cust_tip_df['total_bill'].mean()\n",
    "minus_one_sigma = bill_mean - bill_std\n",
    "plus_one_sigma = bill_mean + bill_std\n",
    "onesigma_rowcount = cust_tip_df[(cust_tip_df.total_bill>=minus_one_sigma)&(cust_tip_df.total_bill<=plus_one_sigma)].shape[0]\n",
    "total_rowcount = len(cust_tip_df.index)\n",
    "onesigma_pct = onesigma_rowcount/total_rowcount * 100\n",
    "print(\"%.1f%% of customers have total bill between +1 Sigma %.1f and -1 Sigma %.1f\" %(onesigma_pct, plus_one_sigma,minus_one_sigma))"
   ]
  }
 ],
 "metadata": {
  "colab": {
   "name": "Lab_Exercise_1_DS_DSAI.ipynb",
   "provenance": []
  },
  "kernelspec": {
   "display_name": "Python 3",
   "language": "python",
   "name": "python3"
  },
  "language_info": {
   "codemirror_mode": {
    "name": "ipython",
    "version": 3
   },
   "file_extension": ".py",
   "mimetype": "text/x-python",
   "name": "python",
   "nbconvert_exporter": "python",
   "pygments_lexer": "ipython3",
   "version": "3.8.5"
  }
 },
 "nbformat": 4,
 "nbformat_minor": 4
}
