{
 "cells": [
  {
   "cell_type": "markdown",
   "metadata": {
    "id": "ck_UtO7jHRPY"
   },
   "source": [
    "## Lab Exercise_1 - Descriptive Statistical Data Analysis"
   ]
  },
  {
   "cell_type": "markdown",
   "metadata": {
    "id": "Knfw5LteHRPc"
   },
   "source": [
    "### About the dataset (Customer Tip Data)\n",
    "\n",
    "The dataset contains information about the 244 orders served at a restaurant in the United States. Each observation includes the factors related to the order like total bill, time, the total number of people in a group, gender of the person paying for the order and so on.\n",
    "\n",
    "Attribute Information:\n",
    "\n",
    "**total_bill:** Total bill (cost of the meal), including tax, in US dollars\n",
    "\n",
    "**tip:** Tip in US dollars\n",
    "\n",
    "**sex:** Sex of person paying for the meal\n",
    "\n",
    "**smoker:** There is a smoker in a group or not\n",
    "\n",
    "**day:** Day on which the order is served\n",
    "\n",
    "**time:** Time of the order\n",
    "\n",
    "**size:** Size of the group"
   ]
  },
  {
   "cell_type": "markdown",
   "metadata": {
    "id": "iC2Qz7dnHRPd"
   },
   "source": [
    "**Import the required libraries**"
   ]
  },
  {
   "cell_type": "code",
   "execution_count": 1,
   "metadata": {
    "id": "LJNdq8TDHRPd"
   },
   "outputs": [],
   "source": [
    "# type your code here\n",
    "import pandas as pd\n",
    "from scipy import stats\n",
    "import numpy as np\n",
    "import seaborn as sns\n",
    "import matplotlib.pyplot as plt\n",
    "%matplotlib inline"
   ]
  },
  {
   "cell_type": "markdown",
   "metadata": {
    "id": "avf7zpzqHRPe"
   },
   "source": [
    "#### Load the customer tip dataset and print the first five observations"
   ]
  },
  {
   "cell_type": "code",
   "execution_count": 2,
   "metadata": {
    "colab": {
     "base_uri": "https://localhost:8080/",
     "height": 441
    },
    "id": "9dFGIZ5MHRPf",
    "outputId": "31814a3a-432d-4da1-eb7b-443df1f9c05c"
   },
   "outputs": [
    {
     "name": "stdout",
     "output_type": "stream",
     "text": [
      "(244, 7)\n"
     ]
    },
    {
     "data": {
      "text/html": [
       "<div>\n",
       "<style scoped>\n",
       "    .dataframe tbody tr th:only-of-type {\n",
       "        vertical-align: middle;\n",
       "    }\n",
       "\n",
       "    .dataframe tbody tr th {\n",
       "        vertical-align: top;\n",
       "    }\n",
       "\n",
       "    .dataframe thead th {\n",
       "        text-align: right;\n",
       "    }\n",
       "</style>\n",
       "<table border=\"1\" class=\"dataframe\">\n",
       "  <thead>\n",
       "    <tr style=\"text-align: right;\">\n",
       "      <th></th>\n",
       "      <th>total_bill</th>\n",
       "      <th>tip</th>\n",
       "      <th>sex</th>\n",
       "      <th>smoker</th>\n",
       "      <th>day</th>\n",
       "      <th>time</th>\n",
       "      <th>size</th>\n",
       "    </tr>\n",
       "  </thead>\n",
       "  <tbody>\n",
       "    <tr>\n",
       "      <th>0</th>\n",
       "      <td>16.99</td>\n",
       "      <td>1.01</td>\n",
       "      <td>Female</td>\n",
       "      <td>No</td>\n",
       "      <td>Sun</td>\n",
       "      <td>Dinner</td>\n",
       "      <td>2</td>\n",
       "    </tr>\n",
       "    <tr>\n",
       "      <th>1</th>\n",
       "      <td>10.34</td>\n",
       "      <td>1.66</td>\n",
       "      <td>Male</td>\n",
       "      <td>No</td>\n",
       "      <td>Sun</td>\n",
       "      <td>Dinner</td>\n",
       "      <td>3</td>\n",
       "    </tr>\n",
       "    <tr>\n",
       "      <th>2</th>\n",
       "      <td>21.01</td>\n",
       "      <td>3.50</td>\n",
       "      <td>Male</td>\n",
       "      <td>No</td>\n",
       "      <td>Sun</td>\n",
       "      <td>Dinner</td>\n",
       "      <td>3</td>\n",
       "    </tr>\n",
       "    <tr>\n",
       "      <th>3</th>\n",
       "      <td>23.68</td>\n",
       "      <td>3.31</td>\n",
       "      <td>Male</td>\n",
       "      <td>No</td>\n",
       "      <td>Sun</td>\n",
       "      <td>Dinner</td>\n",
       "      <td>2</td>\n",
       "    </tr>\n",
       "    <tr>\n",
       "      <th>4</th>\n",
       "      <td>24.59</td>\n",
       "      <td>3.61</td>\n",
       "      <td>Female</td>\n",
       "      <td>No</td>\n",
       "      <td>Sun</td>\n",
       "      <td>Dinner</td>\n",
       "      <td>4</td>\n",
       "    </tr>\n",
       "  </tbody>\n",
       "</table>\n",
       "</div>"
      ],
      "text/plain": [
       "   total_bill   tip     sex smoker  day    time  size\n",
       "0       16.99  1.01  Female     No  Sun  Dinner     2\n",
       "1       10.34  1.66    Male     No  Sun  Dinner     3\n",
       "2       21.01  3.50    Male     No  Sun  Dinner     3\n",
       "3       23.68  3.31    Male     No  Sun  Dinner     2\n",
       "4       24.59  3.61  Female     No  Sun  Dinner     4"
      ]
     },
     "execution_count": 2,
     "metadata": {},
     "output_type": "execute_result"
    }
   ],
   "source": [
    "# type your code here\n",
    "cust_tip_df = pd.read_csv('customer_tip.csv')\n",
    "print(cust_tip_df.shape )\n",
    "cust_tip_df.head()"
   ]
  },
  {
   "cell_type": "markdown",
   "metadata": {
    "id": "bB-ykz8lHRPf"
   },
   "source": [
    "### Let's begin with some hands-on practice exercises"
   ]
  },
  {
   "cell_type": "markdown",
   "metadata": {
    "id": "M1M1LQJmHRPg"
   },
   "source": [
    "### 1. Print the column names of categorical and numerical variables in the data\n"
   ]
  },
  {
   "cell_type": "code",
   "execution_count": 3,
   "metadata": {
    "colab": {
     "base_uri": "https://localhost:8080/"
    },
    "id": "9_HXZtgpHRPg",
    "outputId": "188ea0e5-dd3e-4a1d-d6a3-597ca340cc83"
   },
   "outputs": [
    {
     "name": "stdout",
     "output_type": "stream",
     "text": [
      "The categorical columns are ['sex', 'smoker', 'day', 'time']\n",
      "The numerical columns are ['total_bill', 'tip', 'size']\n"
     ]
    }
   ],
   "source": [
    "# type your code here\n",
    "cat_cols = [col for col in cust_tip_df.columns if cust_tip_df[col].dtype==\"O\"]\n",
    "num_cols = [col for col in cust_tip_df.columns if cust_tip_df[col].dtype!=\"O\"]\n",
    "print(\"The categorical columns are {}\".format(cat_cols)) \n",
    "print(\"The numerical columns are {}\".format(num_cols)) "
   ]
  },
  {
   "cell_type": "markdown",
   "metadata": {
    "id": "pRXxzPDhHRPh"
   },
   "source": [
    "### 2. Print the average value of Total bill amount and tips"
   ]
  },
  {
   "cell_type": "code",
   "execution_count": 4,
   "metadata": {
    "colab": {
     "base_uri": "https://localhost:8080/"
    },
    "id": "219rLqRXHRPh",
    "outputId": "de3dc93d-e604-4854-f053-f743b723015b"
   },
   "outputs": [
    {
     "data": {
      "text/html": [
       "<div>\n",
       "<style scoped>\n",
       "    .dataframe tbody tr th:only-of-type {\n",
       "        vertical-align: middle;\n",
       "    }\n",
       "\n",
       "    .dataframe tbody tr th {\n",
       "        vertical-align: top;\n",
       "    }\n",
       "\n",
       "    .dataframe thead th {\n",
       "        text-align: right;\n",
       "    }\n",
       "</style>\n",
       "<table border=\"1\" class=\"dataframe\">\n",
       "  <thead>\n",
       "    <tr style=\"text-align: right;\">\n",
       "      <th></th>\n",
       "      <th>Average</th>\n",
       "    </tr>\n",
       "  </thead>\n",
       "  <tbody>\n",
       "    <tr>\n",
       "      <th>total_bill</th>\n",
       "      <td>19.785943</td>\n",
       "    </tr>\n",
       "    <tr>\n",
       "      <th>tip</th>\n",
       "      <td>2.998279</td>\n",
       "    </tr>\n",
       "  </tbody>\n",
       "</table>\n",
       "</div>"
      ],
      "text/plain": [
       "              Average\n",
       "total_bill  19.785943\n",
       "tip          2.998279"
      ]
     },
     "execution_count": 4,
     "metadata": {},
     "output_type": "execute_result"
    }
   ],
   "source": [
    "# type your code\n",
    "col_lst=['total_bill', 'tip']\n",
    "cust_tip_df[col_lst].mean().to_frame(name='Average')"
   ]
  },
  {
   "cell_type": "markdown",
   "metadata": {
    "id": "aecSLSJnHRPh"
   },
   "source": [
    "### 3. Compute the average bill amount for each day\n"
   ]
  },
  {
   "cell_type": "code",
   "execution_count": 5,
   "metadata": {
    "colab": {
     "base_uri": "https://localhost:8080/",
     "height": 202
    },
    "id": "k8qX7LcOHRPh",
    "outputId": "3c06ffef-4657-4566-df3e-7add9ed43997"
   },
   "outputs": [
    {
     "data": {
      "text/html": [
       "<div>\n",
       "<style scoped>\n",
       "    .dataframe tbody tr th:only-of-type {\n",
       "        vertical-align: middle;\n",
       "    }\n",
       "\n",
       "    .dataframe tbody tr th {\n",
       "        vertical-align: top;\n",
       "    }\n",
       "\n",
       "    .dataframe thead th {\n",
       "        text-align: right;\n",
       "    }\n",
       "</style>\n",
       "<table border=\"1\" class=\"dataframe\">\n",
       "  <thead>\n",
       "    <tr style=\"text-align: right;\">\n",
       "      <th></th>\n",
       "      <th>Total_Bill_Avg</th>\n",
       "    </tr>\n",
       "    <tr>\n",
       "      <th>day</th>\n",
       "      <th></th>\n",
       "    </tr>\n",
       "  </thead>\n",
       "  <tbody>\n",
       "    <tr>\n",
       "      <th>Fri</th>\n",
       "      <td>17.151579</td>\n",
       "    </tr>\n",
       "    <tr>\n",
       "      <th>Sat</th>\n",
       "      <td>20.441379</td>\n",
       "    </tr>\n",
       "    <tr>\n",
       "      <th>Sun</th>\n",
       "      <td>21.410000</td>\n",
       "    </tr>\n",
       "    <tr>\n",
       "      <th>Thur</th>\n",
       "      <td>17.682742</td>\n",
       "    </tr>\n",
       "  </tbody>\n",
       "</table>\n",
       "</div>"
      ],
      "text/plain": [
       "      Total_Bill_Avg\n",
       "day                 \n",
       "Fri        17.151579\n",
       "Sat        20.441379\n",
       "Sun        21.410000\n",
       "Thur       17.682742"
      ]
     },
     "execution_count": 5,
     "metadata": {},
     "output_type": "execute_result"
    }
   ],
   "source": [
    "# type your code here\n",
    "cust_tip_df.groupby('day').agg(Total_Bill_Avg=('total_bill','mean'))"
   ]
  },
  {
   "cell_type": "markdown",
   "metadata": {},
   "source": [
    "Sunday has the highest average total bill amount. And the second highest is Saturday. People spend more at restaurants on the weekends."
   ]
  },
  {
   "cell_type": "markdown",
   "metadata": {
    "id": "j9EfSkEbHRPi"
   },
   "source": [
    "### 4. Which gender is more generous in giving the tip?</b>\n"
   ]
  },
  {
   "cell_type": "code",
   "execution_count": 6,
   "metadata": {
    "colab": {
     "base_uri": "https://localhost:8080/",
     "height": 110
    },
    "id": "bOOByFesHRPi",
    "outputId": "ba96d17f-0d36-495d-f216-e5b81af88306"
   },
   "outputs": [
    {
     "data": {
      "text/html": [
       "<div>\n",
       "<style scoped>\n",
       "    .dataframe tbody tr th:only-of-type {\n",
       "        vertical-align: middle;\n",
       "    }\n",
       "\n",
       "    .dataframe tbody tr th {\n",
       "        vertical-align: top;\n",
       "    }\n",
       "\n",
       "    .dataframe thead th {\n",
       "        text-align: right;\n",
       "    }\n",
       "</style>\n",
       "<table border=\"1\" class=\"dataframe\">\n",
       "  <thead>\n",
       "    <tr style=\"text-align: right;\">\n",
       "      <th></th>\n",
       "      <th>sex</th>\n",
       "      <th>Tip_Avg</th>\n",
       "    </tr>\n",
       "  </thead>\n",
       "  <tbody>\n",
       "    <tr>\n",
       "      <th>0</th>\n",
       "      <td>Female</td>\n",
       "      <td>2.75</td>\n",
       "    </tr>\n",
       "    <tr>\n",
       "      <th>1</th>\n",
       "      <td>Male</td>\n",
       "      <td>3.00</td>\n",
       "    </tr>\n",
       "  </tbody>\n",
       "</table>\n",
       "</div>"
      ],
      "text/plain": [
       "      sex  Tip_Avg\n",
       "0  Female     2.75\n",
       "1    Male     3.00"
      ]
     },
     "execution_count": 6,
     "metadata": {},
     "output_type": "execute_result"
    }
   ],
   "source": [
    "# type your code here\n",
    "cust_tip_df.groupby('sex', as_index=False).agg(Tip_Avg=('tip','median'))"
   ]
  },
  {
   "cell_type": "markdown",
   "metadata": {
    "id": "z-UARDxANRXL"
   },
   "source": [
    "The median tip for male is 3 and female is 2.75. Hence Male are slightly more generous in giving tips."
   ]
  },
  {
   "cell_type": "markdown",
   "metadata": {
    "id": "CqKcRIFyHRPi"
   },
   "source": [
    "### 5. According to the data, were there more customers for dinner or lunch? </b>\n"
   ]
  },
  {
   "cell_type": "code",
   "execution_count": 7,
   "metadata": {
    "colab": {
     "base_uri": "https://localhost:8080/",
     "height": 141
    },
    "id": "_eXSx5HAHRPi",
    "outputId": "7f547f05-4246-4c55-eeca-e5588beb2b52"
   },
   "outputs": [
    {
     "data": {
      "text/html": [
       "<div>\n",
       "<style scoped>\n",
       "    .dataframe tbody tr th:only-of-type {\n",
       "        vertical-align: middle;\n",
       "    }\n",
       "\n",
       "    .dataframe tbody tr th {\n",
       "        vertical-align: top;\n",
       "    }\n",
       "\n",
       "    .dataframe thead th {\n",
       "        text-align: right;\n",
       "    }\n",
       "</style>\n",
       "<table border=\"1\" class=\"dataframe\">\n",
       "  <thead>\n",
       "    <tr style=\"text-align: right;\">\n",
       "      <th></th>\n",
       "      <th>NoOfCustomers</th>\n",
       "    </tr>\n",
       "    <tr>\n",
       "      <th>time</th>\n",
       "      <th></th>\n",
       "    </tr>\n",
       "  </thead>\n",
       "  <tbody>\n",
       "    <tr>\n",
       "      <th>Dinner</th>\n",
       "      <td>463</td>\n",
       "    </tr>\n",
       "    <tr>\n",
       "      <th>Lunch</th>\n",
       "      <td>164</td>\n",
       "    </tr>\n",
       "  </tbody>\n",
       "</table>\n",
       "</div>"
      ],
      "text/plain": [
       "        NoOfCustomers\n",
       "time                 \n",
       "Dinner            463\n",
       "Lunch             164"
      ]
     },
     "execution_count": 7,
     "metadata": {},
     "output_type": "execute_result"
    }
   ],
   "source": [
    "# type your code here\n",
    "cust_tip_df.groupby('time').agg(NoOfCustomers=('size','sum'))"
   ]
  },
  {
   "cell_type": "markdown",
   "metadata": {
    "id": "b85Au9oeOZJ7"
   },
   "source": [
    "There were more customers for dinner. People choose to dine at the restaurant more during dinner time."
   ]
  },
  {
   "cell_type": "markdown",
   "metadata": {
    "id": "s-RXR65iHRPj"
   },
   "source": [
    "### 6. comment on the variable 'tip' based on its measure of dispersion "
   ]
  },
  {
   "cell_type": "code",
   "execution_count": 8,
   "metadata": {
    "colab": {
     "base_uri": "https://localhost:8080/",
     "height": 282
    },
    "id": "xpNFU155HRPj",
    "outputId": "109550d7-195b-49e4-d5f4-0f6742791e4c"
   },
   "outputs": [
    {
     "data": {
      "text/plain": [
       "<AxesSubplot:>"
      ]
     },
     "execution_count": 8,
     "metadata": {},
     "output_type": "execute_result"
    },
    {
     "data": {
      "image/png": "[encoded data removed]",
      "text/plain": [
       "<Figure size 432x288 with 1 Axes>"
      ]
     },
     "metadata": {
      "needs_background": "light"
     },
     "output_type": "display_data"
    }
   ],
   "source": [
    "cust_tip_df['tip'].plot(kind='box')"
   ]
  },
  {
   "cell_type": "markdown",
   "metadata": {},
   "source": [
    "Tip seems to have outliers hence IQR could be the best choice for measure the dispersion"
   ]
  },
  {
   "cell_type": "code",
   "execution_count": 9,
   "metadata": {},
   "outputs": [
    {
     "data": {
      "text/plain": [
       "2.9"
      ]
     },
     "execution_count": 9,
     "metadata": {},
     "output_type": "execute_result"
    }
   ],
   "source": [
    "cust_tip_df['tip'].median()"
   ]
  },
  {
   "cell_type": "code",
   "execution_count": 10,
   "metadata": {
    "colab": {
     "base_uri": "https://localhost:8080/"
    },
    "id": "N5Gty1dhVgN-",
    "outputId": "de46c31b-3c68-4d5a-dcaa-4686d9dae9bb"
   },
   "outputs": [
    {
     "data": {
      "text/plain": [
       "0.25    2.0000\n",
       "0.75    3.5625\n",
       "Name: tip, dtype: float64"
      ]
     },
     "execution_count": 10,
     "metadata": {},
     "output_type": "execute_result"
    }
   ],
   "source": [
    "cust_tip_df['tip'].quantile([0.25,0.75])"
   ]
  },
  {
   "cell_type": "markdown",
   "metadata": {
    "id": "953CExP6VoBa"
   },
   "source": [
    "Tips has a median of 2.9 with the range of middle half of the data being between 2 to 3.6."
   ]
  },
  {
   "cell_type": "markdown",
   "metadata": {
    "id": "hmJWUri5HRPj"
   },
   "source": [
    "### 7. Compare the deviation of Numerical variables and comment which feature is having more deviation"
   ]
  },
  {
   "cell_type": "code",
   "execution_count": 11,
   "metadata": {
    "colab": {
     "base_uri": "https://localhost:8080/",
     "height": 141
    },
    "id": "iWjzsksIkm4b",
    "outputId": "f543df00-9557-4503-802d-4dae2c0e4de8"
   },
   "outputs": [
    {
     "data": {
      "text/html": [
       "<div>\n",
       "<style scoped>\n",
       "    .dataframe tbody tr th:only-of-type {\n",
       "        vertical-align: middle;\n",
       "    }\n",
       "\n",
       "    .dataframe tbody tr th {\n",
       "        vertical-align: top;\n",
       "    }\n",
       "\n",
       "    .dataframe thead th {\n",
       "        text-align: right;\n",
       "    }\n",
       "</style>\n",
       "<table border=\"1\" class=\"dataframe\">\n",
       "  <thead>\n",
       "    <tr style=\"text-align: right;\">\n",
       "      <th></th>\n",
       "      <th>coeff_var</th>\n",
       "    </tr>\n",
       "  </thead>\n",
       "  <tbody>\n",
       "    <tr>\n",
       "      <th>total_bill</th>\n",
       "      <td>0.449013</td>\n",
       "    </tr>\n",
       "    <tr>\n",
       "      <th>tip</th>\n",
       "      <td>0.460531</td>\n",
       "    </tr>\n",
       "    <tr>\n",
       "      <th>size</th>\n",
       "      <td>0.369366</td>\n",
       "    </tr>\n",
       "  </tbody>\n",
       "</table>\n",
       "</div>"
      ],
      "text/plain": [
       "            coeff_var\n",
       "total_bill   0.449013\n",
       "tip          0.460531\n",
       "size         0.369366"
      ]
     },
     "execution_count": 11,
     "metadata": {},
     "output_type": "execute_result"
    }
   ],
   "source": [
    "# select only the numerical columns\n",
    "num_data = cust_tip_df.select_dtypes(include=np.number)\n",
    "\n",
    "# define function to calculate Coefficient of Variance\n",
    "cv = lambda x: np.std(x) / np.mean(x)\n",
    "\n",
    "# calculate the Coefficient of Variance\n",
    "num_data.apply(cv).to_frame(name='coeff_var')"
   ]
  },
  {
   "cell_type": "markdown",
   "metadata": {},
   "source": [
    "Tip is more dispersed around the mean than Total Bill and Size. And Total Bill is more dispersed around the mean than size."
   ]
  },
  {
   "cell_type": "markdown",
   "metadata": {
    "id": "s8vd7UeFHRPj"
   },
   "source": [
    "### 8. Plot the distribution of bill amount and tip and comment about its normality"
   ]
  },
  {
   "cell_type": "code",
   "execution_count": 12,
   "metadata": {
    "colab": {
     "base_uri": "https://localhost:8080/",
     "height": 544
    },
    "id": "yxJDp3nCHRPk",
    "outputId": "82f904ad-91dc-42ac-c9b0-ad59fd3b55ed"
   },
   "outputs": [
    {
     "data": {
      "image/png": "[encoded data removed]",
      "text/plain": [
       "<Figure size 1080x360 with 2 Axes>"
      ]
     },
     "metadata": {
      "needs_background": "light"
     },
     "output_type": "display_data"
    }
   ],
   "source": [
    "fig,axes = plt.subplots(1,2, figsize=(15,5))\n",
    "for i,col in enumerate(cust_tip_df[['total_bill','tip']]):\n",
    "    cust_tip_df[col].plot(kind='kde', ax=axes[i])\n",
    "    axes[i].title.set_text(col)\n",
    "plt.show()"
   ]
  },
  {
   "cell_type": "markdown",
   "metadata": {
    "id": "962RQCNhzNz6"
   },
   "source": [
    "The plots are righ-skewed."
   ]
  },
  {
   "cell_type": "code",
   "execution_count": 13,
   "metadata": {},
   "outputs": [
    {
     "data": {
      "text/html": [
       "<div>\n",
       "<style scoped>\n",
       "    .dataframe tbody tr th:only-of-type {\n",
       "        vertical-align: middle;\n",
       "    }\n",
       "\n",
       "    .dataframe tbody tr th {\n",
       "        vertical-align: top;\n",
       "    }\n",
       "\n",
       "    .dataframe thead th {\n",
       "        text-align: right;\n",
       "    }\n",
       "</style>\n",
       "<table border=\"1\" class=\"dataframe\">\n",
       "  <thead>\n",
       "    <tr style=\"text-align: right;\">\n",
       "      <th></th>\n",
       "      <th>total_bill</th>\n",
       "      <th>tip</th>\n",
       "    </tr>\n",
       "  </thead>\n",
       "  <tbody>\n",
       "    <tr>\n",
       "      <th>mean</th>\n",
       "      <td>19.785943</td>\n",
       "      <td>2.998279</td>\n",
       "    </tr>\n",
       "    <tr>\n",
       "      <th>median</th>\n",
       "      <td>17.795000</td>\n",
       "      <td>2.900000</td>\n",
       "    </tr>\n",
       "    <tr>\n",
       "      <th>mode</th>\n",
       "      <td>13.420000</td>\n",
       "      <td>2.000000</td>\n",
       "    </tr>\n",
       "  </tbody>\n",
       "</table>\n",
       "</div>"
      ],
      "text/plain": [
       "        total_bill       tip\n",
       "mean     19.785943  2.998279\n",
       "median   17.795000  2.900000\n",
       "mode     13.420000  2.000000"
      ]
     },
     "execution_count": 13,
     "metadata": {},
     "output_type": "execute_result"
    }
   ],
   "source": [
    "measures_df = pd.DataFrame()\n",
    "measures_df = measures_df.append(cust_tip_df[['total_bill','tip']].mean().to_frame(name='mean').T)\n",
    "measures_df=measures_df.append(cust_tip_df[['total_bill','tip']].median().to_frame(name='median').T)\n",
    "mode_df = cust_tip_df[['total_bill','tip']].mode()\n",
    "mode_df.index=['mode']\n",
    "measures_df = measures_df.append(mode_df)\n",
    "measures_df"
   ]
  },
  {
   "cell_type": "markdown",
   "metadata": {
    "id": "xq5OikDIytOj"
   },
   "source": [
    "The mean, median and mode are not same."
   ]
  },
  {
   "cell_type": "code",
   "execution_count": 14,
   "metadata": {
    "colab": {
     "base_uri": "https://localhost:8080/"
    },
    "id": "ACy4H1SlumCf",
    "outputId": "041ac94b-0f2b-4407-dbe4-9e34a724abf6"
   },
   "outputs": [
    {
     "data": {
      "text/html": [
       "<div>\n",
       "<style scoped>\n",
       "    .dataframe tbody tr th:only-of-type {\n",
       "        vertical-align: middle;\n",
       "    }\n",
       "\n",
       "    .dataframe tbody tr th {\n",
       "        vertical-align: top;\n",
       "    }\n",
       "\n",
       "    .dataframe thead th {\n",
       "        text-align: right;\n",
       "    }\n",
       "</style>\n",
       "<table border=\"1\" class=\"dataframe\">\n",
       "  <thead>\n",
       "    <tr style=\"text-align: right;\">\n",
       "      <th></th>\n",
       "      <th>skewness</th>\n",
       "    </tr>\n",
       "  </thead>\n",
       "  <tbody>\n",
       "    <tr>\n",
       "      <th>total_bill</th>\n",
       "      <td>1.133213</td>\n",
       "    </tr>\n",
       "    <tr>\n",
       "      <th>tip</th>\n",
       "      <td>1.465451</td>\n",
       "    </tr>\n",
       "  </tbody>\n",
       "</table>\n",
       "</div>"
      ],
      "text/plain": [
       "            skewness\n",
       "total_bill  1.133213\n",
       "tip         1.465451"
      ]
     },
     "execution_count": 14,
     "metadata": {},
     "output_type": "execute_result"
    }
   ],
   "source": [
    "cust_tip_df[['total_bill','tip']].skew().to_frame(name='skewness')"
   ]
  },
  {
   "cell_type": "markdown",
   "metadata": {
    "id": "02rREDqhy1zr"
   },
   "source": [
    "Skewness is close to 0 for normal distribution. Here the skewness is > 1."
   ]
  },
  {
   "cell_type": "code",
   "execution_count": 15,
   "metadata": {
    "colab": {
     "base_uri": "https://localhost:8080/"
    },
    "id": "0vMKJwdHvmXW",
    "outputId": "da078017-075b-4578-b3b8-a7e6e5ff38ef"
   },
   "outputs": [
    {
     "name": "stdout",
     "output_type": "stream",
     "text": [
      "Statistics=0.920, p=0.000\n",
      "total_bill does not look Gaussian (reject H0)\n",
      "--------------------------------------------------\n",
      "Statistics=0.898, p=0.000\n",
      "tip does not look Gaussian (reject H0)\n",
      "--------------------------------------------------\n"
     ]
    }
   ],
   "source": [
    "# Shapiro-Wilk Test\n",
    "for col in cust_tip_df[['total_bill','tip']]:\n",
    "    stat, p = stats.shapiro(cust_tip_df[col])\n",
    "    print('Statistics=%.3f, p=%.3f' % (stat, p))\n",
    "    # interpret\n",
    "    alpha = 0.05\n",
    "    if p > alpha:\n",
    "        print('{} looks Gaussian (fail to reject H0)'.format(col))\n",
    "    else:\n",
    "        print('{} does not look Gaussian (reject H0)'.format(col))\n",
    "        print('-'*50)"
   ]
  },
  {
   "cell_type": "markdown",
   "metadata": {
    "id": "F0dbRXmbxzYU"
   },
   "source": [
    "1. The mean, median and mode are not same.\n",
    "2. The skewness is > 1 for both meaning both are highly right-skewed\n",
    "3. The shapiro-wilk test also fails for both total bill and tips. \n",
    "\n",
    "Hence they are not normally distributed. "
   ]
  },
  {
   "cell_type": "markdown",
   "metadata": {
    "id": "d97xrc9GHRPk"
   },
   "source": [
    "### 9. Is the variable 'total_bill' skewed? If yes, identify the type of skewness. Support your answer with a plot\n"
   ]
  },
  {
   "cell_type": "code",
   "execution_count": 16,
   "metadata": {
    "colab": {
     "base_uri": "https://localhost:8080/",
     "height": 281
    },
    "id": "M8Bxk616HRPk",
    "outputId": "7c1261fa-6d11-44a3-e7fe-d4f90941ab73"
   },
   "outputs": [
    {
     "data": {
      "image/png": "[encoded data removed]",
      "text/plain": [
       "<Figure size 432x288 with 1 Axes>"
      ]
     },
     "metadata": {
      "needs_background": "light"
     },
     "output_type": "display_data"
    }
   ],
   "source": [
    "# type your code here\n",
    "cust_tip_df['total_bill'].plot(kind='kde')\n",
    "plt.title('total_bill')\n",
    "plt.show()"
   ]
  },
  {
   "cell_type": "code",
   "execution_count": 17,
   "metadata": {
    "colab": {
     "base_uri": "https://localhost:8080/"
    },
    "id": "abLszwMJ2IXl",
    "outputId": "f7b10720-fac2-4b29-d588-a8437743db34"
   },
   "outputs": [
    {
     "data": {
      "text/plain": [
       "1.1332130376158205"
      ]
     },
     "execution_count": 17,
     "metadata": {},
     "output_type": "execute_result"
    }
   ],
   "source": [
    "cust_tip_df['total_bill'].skew()"
   ]
  },
  {
   "cell_type": "markdown",
   "metadata": {
    "id": "uEcuLN5_z52Y"
   },
   "source": [
    "Yes, Total Bill is skewed and it is righ-skewed. Sknewness > 1 indicates it is highly skewed."
   ]
  },
  {
   "cell_type": "markdown",
   "metadata": {
    "id": "dcEpaEt6HRPk"
   },
   "source": [
    "### 10. Apply the suitable transformation to reduce the skew of the variable \"total_bill\""
   ]
  },
  {
   "cell_type": "code",
   "execution_count": 18,
   "metadata": {
    "colab": {
     "base_uri": "https://localhost:8080/"
    },
    "id": "DdhS1gO7HRPk",
    "outputId": "248b9c77-79d2-4586-80b6-60ccdfb94fe4"
   },
   "outputs": [
    {
     "name": "stdout",
     "output_type": "stream",
     "text": [
      "The skewness after applying log transform is -0.12\n",
      "The skewness after applying sqrt transform is 0.57\n",
      "The skewness after applying boxcox transform is 0.00\n",
      "The skewness after applying 0.1 power is 0.04\n"
     ]
    }
   ],
   "source": [
    "total_bill_log = np.log(cust_tip_df['total_bill']) \n",
    "total_bill_log.name = 'log'\n",
    "total_bill_sqrt = np.sqrt(cust_tip_df['total_bill']) \n",
    "total_bill_sqrt.name = 'sqrt'\n",
    "total_bill_power = np.power(cust_tip_df['total_bill'],0.1) \n",
    "total_bill_power.name = 'power.1'\n",
    "total_bill_boxcox = pd.Series(stats.boxcox(cust_tip_df['total_bill'])[0], name='boxcox')\n",
    "print(\"The skewness after applying log transform is %.2f\" % total_bill_log.skew())\n",
    "print(\"The skewness after applying sqrt transform is %.2f\" % total_bill_sqrt.skew())\n",
    "print(\"The skewness after applying boxcox transform is %.2f\" % total_bill_boxcox.skew())         \n",
    "print(\"The skewness after applying 0.1 power is %.2f\" % total_bill_power.skew())    "
   ]
  },
  {
   "cell_type": "markdown",
   "metadata": {},
   "source": [
    "BoxCox Transformation is the most suitable Transformation with skewness almost 0. The next suitable transformation is to the power of 0.1"
   ]
  },
  {
   "cell_type": "code",
   "execution_count": 19,
   "metadata": {
    "colab": {
     "base_uri": "https://localhost:8080/",
     "height": 334
    },
    "id": "hA9PnutiHRPk",
    "outputId": "b13a1bfe-80e3-424a-f0bf-dea660904491"
   },
   "outputs": [
    {
     "data": {
      "image/png": "[encoded data removed]",
      "text/plain": [
       "<Figure size 1440x360 with 4 Axes>"
      ]
     },
     "metadata": {
      "needs_background": "light"
     },
     "output_type": "display_data"
    }
   ],
   "source": [
    "# plots after transformation\n",
    "total_bill_transform_df = pd.concat([total_bill_log,total_bill_sqrt,total_bill_boxcox, total_bill_power],axis=1)\n",
    "fig,axes = plt.subplots(1,4,figsize=(20,5),sharey=True)\n",
    "for i,col in enumerate(total_bill_transform_df):\n",
    "    sns.kdeplot(x=total_bill_transform_df[col], ax=axes[i])\n",
    "plt.show()"
   ]
  },
  {
   "cell_type": "markdown",
   "metadata": {
    "id": "dQg6TGhsHRPk"
   },
   "source": [
    "### 11. Analyze the relation between bill_amount and tips"
   ]
  },
  {
   "cell_type": "code",
   "execution_count": 20,
   "metadata": {
    "colab": {
     "base_uri": "https://localhost:8080/",
     "height": 296
    },
    "id": "eJbDO4AF_fRf",
    "outputId": "359069ec-0b42-491d-ad0b-84b1f6d85d69"
   },
   "outputs": [
    {
     "data": {
      "text/plain": [
       "<AxesSubplot:xlabel='tip', ylabel='total_bill'>"
      ]
     },
     "execution_count": 20,
     "metadata": {},
     "output_type": "execute_result"
    },
    {
     "data": {
      "image/png": "[encoded data removed]",
      "text/plain": [
       "<Figure size 432x288 with 1 Axes>"
      ]
     },
     "metadata": {
      "needs_background": "light"
     },
     "output_type": "display_data"
    }
   ],
   "source": [
    "sns.regplot(x='tip', y='total_bill', data=cust_tip_df)"
   ]
  },
  {
   "cell_type": "code",
   "execution_count": 21,
   "metadata": {
    "colab": {
     "base_uri": "https://localhost:8080/"
    },
    "id": "nOUPXot9A6wn",
    "outputId": "c5d402e7-ac76-48e1-e10c-41d943af0c4a"
   },
   "outputs": [
    {
     "data": {
      "text/plain": [
       "(0.6757341092113645, 6.692470646863477e-34)"
      ]
     },
     "execution_count": 21,
     "metadata": {},
     "output_type": "execute_result"
    }
   ],
   "source": [
    "stats.pearsonr(cust_tip_df['tip'], cust_tip_df['total_bill'])"
   ]
  },
  {
   "cell_type": "markdown",
   "metadata": {
    "id": "SyR1byYOBYgs"
   },
   "source": [
    "[0-0.19 - very weak, 0.2-0.39 - weak, 0.40-0.59 - moderate, 0.6-0.79 - strong, 0.8-1 - very strong correlation]\n",
    "\n",
    "There is a strong positive linear correlation between tips and total bill"
   ]
  },
  {
   "cell_type": "markdown",
   "metadata": {
    "id": "BoFaKsWtHRPl"
   },
   "source": [
    "### 12. Find the covaraiance and correlation between bill_amount and tips. Infer the results"
   ]
  },
  {
   "cell_type": "code",
   "execution_count": 22,
   "metadata": {
    "colab": {
     "base_uri": "https://localhost:8080/"
    },
    "id": "qsuhXwbvXeoK",
    "outputId": "abb31dff-0548-444f-8819-c576e225cf47"
   },
   "outputs": [
    {
     "name": "stdout",
     "output_type": "stream",
     "text": [
      "The covariance of total bill amount and tips is 8.32\n"
     ]
    }
   ],
   "source": [
    "covar = np.cov(cust_tip_df['tip'], cust_tip_df['total_bill'])[0,1]\n",
    "print('The covariance of total bill amount and tips is %.2f' % covar)"
   ]
  },
  {
   "cell_type": "code",
   "execution_count": 23,
   "metadata": {
    "colab": {
     "base_uri": "https://localhost:8080/"
    },
    "id": "V5hq_GFfHRPl",
    "outputId": "cd27027b-7bcb-42f2-eda8-e0803f76428c"
   },
   "outputs": [
    {
     "name": "stdout",
     "output_type": "stream",
     "text": [
      "The correlation of total bill amount and tips is 0.68\n"
     ]
    }
   ],
   "source": [
    "corr,_ = stats.pearsonr(cust_tip_df['tip'], cust_tip_df['total_bill'])\n",
    "print('The correlation of total bill amount and tips is %.2f' % corr)"
   ]
  },
  {
   "cell_type": "markdown",
   "metadata": {
    "id": "xKMpzwsnfxmb"
   },
   "source": [
    "A positive covariance indicates there is positive relationship between tips and total bill ie as the total bill increases the tips also increases. \n",
    "\n",
    "To determine the strength of this positive relationship we compute the correlation. The correlation coefficient is between 0.6 and 0.8, which indicates there is a strong positive linear relationship between them."
   ]
  },
  {
   "cell_type": "markdown",
   "metadata": {
    "id": "WhnZSvRWHRPl"
   },
   "source": [
    "### 13. Analyze the relation between bill_amount, tips and sex"
   ]
  },
  {
   "cell_type": "markdown",
   "metadata": {},
   "source": [
    "#### Scatter Plot"
   ]
  },
  {
   "cell_type": "code",
   "execution_count": 24,
   "metadata": {
    "colab": {
     "base_uri": "https://localhost:8080/",
     "height": 296
    },
    "id": "FDjDuJMorGii",
    "outputId": "727678f3-d6cf-48d0-86e3-abdf86882a00"
   },
   "outputs": [
    {
     "data": {
      "text/plain": [
       "<AxesSubplot:xlabel='tip', ylabel='total_bill'>"
      ]
     },
     "execution_count": 24,
     "metadata": {},
     "output_type": "execute_result"
    },
    {
     "data": {
      "image/png": "[encoded data removed]",
      "text/plain": [
       "<Figure size 432x288 with 1 Axes>"
      ]
     },
     "metadata": {
      "needs_background": "light"
     },
     "output_type": "display_data"
    }
   ],
   "source": [
    "sns.scatterplot(x='tip', y='total_bill', hue='sex', data=cust_tip_df)"
   ]
  },
  {
   "cell_type": "markdown",
   "metadata": {
    "id": "nNFUiSvQqdcr"
   },
   "source": [
    "In general there is not much difference between the total bill and tip relationship based on sex. \n",
    "\n",
    "Sometimes males pay extremely high bill amount and also provide extremely high tips.\n",
    "\n",
    "And sometimes mostly males, though they pay high bill amounts, they provide less tips."
   ]
  },
  {
   "cell_type": "markdown",
   "metadata": {
    "id": "6N5QYOsQHRPl"
   },
   "source": [
    "### 14. Find the average number of customer for dinner and Lunch for each day "
   ]
  },
  {
   "cell_type": "code",
   "execution_count": 25,
   "metadata": {
    "colab": {
     "base_uri": "https://localhost:8080/",
     "height": 232
    },
    "id": "C76RaG7nHRPl",
    "outputId": "5cf93e6b-0d2c-4b70-e49d-dddf16e13949"
   },
   "outputs": [
    {
     "data": {
      "text/html": [
       "<div>\n",
       "<style scoped>\n",
       "    .dataframe tbody tr th:only-of-type {\n",
       "        vertical-align: middle;\n",
       "    }\n",
       "\n",
       "    .dataframe tbody tr th {\n",
       "        vertical-align: top;\n",
       "    }\n",
       "\n",
       "    .dataframe thead tr th {\n",
       "        text-align: left;\n",
       "    }\n",
       "\n",
       "    .dataframe thead tr:last-of-type th {\n",
       "        text-align: right;\n",
       "    }\n",
       "</style>\n",
       "<table border=\"1\" class=\"dataframe\">\n",
       "  <thead>\n",
       "    <tr>\n",
       "      <th></th>\n",
       "      <th colspan=\"2\" halign=\"left\">AvgSizeofCustomers</th>\n",
       "    </tr>\n",
       "    <tr>\n",
       "      <th>time</th>\n",
       "      <th>Dinner</th>\n",
       "      <th>Lunch</th>\n",
       "    </tr>\n",
       "    <tr>\n",
       "      <th>day</th>\n",
       "      <th></th>\n",
       "      <th></th>\n",
       "    </tr>\n",
       "  </thead>\n",
       "  <tbody>\n",
       "    <tr>\n",
       "      <th>Fri</th>\n",
       "      <td>2.166667</td>\n",
       "      <td>2.000000</td>\n",
       "    </tr>\n",
       "    <tr>\n",
       "      <th>Sat</th>\n",
       "      <td>2.517241</td>\n",
       "      <td>NaN</td>\n",
       "    </tr>\n",
       "    <tr>\n",
       "      <th>Sun</th>\n",
       "      <td>2.842105</td>\n",
       "      <td>NaN</td>\n",
       "    </tr>\n",
       "    <tr>\n",
       "      <th>Thur</th>\n",
       "      <td>2.000000</td>\n",
       "      <td>2.459016</td>\n",
       "    </tr>\n",
       "  </tbody>\n",
       "</table>\n",
       "</div>"
      ],
      "text/plain": [
       "     AvgSizeofCustomers          \n",
       "time             Dinner     Lunch\n",
       "day                              \n",
       "Fri            2.166667  2.000000\n",
       "Sat            2.517241       NaN\n",
       "Sun            2.842105       NaN\n",
       "Thur           2.000000  2.459016"
      ]
     },
     "execution_count": 25,
     "metadata": {},
     "output_type": "execute_result"
    }
   ],
   "source": [
    "summary_df = cust_tip_df.groupby(['day','time'], as_index=False).agg(AvgSizeofCustomers=('size','mean'))\n",
    "summary_df.pivot(index='day',columns='time')"
   ]
  },
  {
   "cell_type": "markdown",
   "metadata": {},
   "source": [
    "The average size of customers for Dinner on Sundays is the highest."
   ]
  },
  {
   "cell_type": "markdown",
   "metadata": {},
   "source": [
    "\n",
    "\n",
    "### 15. Find the average bill-amount  for dinner and Lunch for each day"
   ]
  },
  {
   "cell_type": "code",
   "execution_count": 26,
   "metadata": {
    "colab": {
     "base_uri": "https://localhost:8080/",
     "height": 232
    },
    "id": "bbuNzhioHRPl",
    "outputId": "d7003fb3-f9c3-4767-861e-50bde0af1dd7"
   },
   "outputs": [
    {
     "data": {
      "text/html": [
       "<div>\n",
       "<style scoped>\n",
       "    .dataframe tbody tr th:only-of-type {\n",
       "        vertical-align: middle;\n",
       "    }\n",
       "\n",
       "    .dataframe tbody tr th {\n",
       "        vertical-align: top;\n",
       "    }\n",
       "\n",
       "    .dataframe thead tr th {\n",
       "        text-align: left;\n",
       "    }\n",
       "\n",
       "    .dataframe thead tr:last-of-type th {\n",
       "        text-align: right;\n",
       "    }\n",
       "</style>\n",
       "<table border=\"1\" class=\"dataframe\">\n",
       "  <thead>\n",
       "    <tr>\n",
       "      <th></th>\n",
       "      <th colspan=\"2\" halign=\"left\">AvgBillAmount</th>\n",
       "    </tr>\n",
       "    <tr>\n",
       "      <th>time</th>\n",
       "      <th>Dinner</th>\n",
       "      <th>Lunch</th>\n",
       "    </tr>\n",
       "    <tr>\n",
       "      <th>day</th>\n",
       "      <th></th>\n",
       "      <th></th>\n",
       "    </tr>\n",
       "  </thead>\n",
       "  <tbody>\n",
       "    <tr>\n",
       "      <th>Fri</th>\n",
       "      <td>19.663333</td>\n",
       "      <td>12.845714</td>\n",
       "    </tr>\n",
       "    <tr>\n",
       "      <th>Sat</th>\n",
       "      <td>20.441379</td>\n",
       "      <td>NaN</td>\n",
       "    </tr>\n",
       "    <tr>\n",
       "      <th>Sun</th>\n",
       "      <td>21.410000</td>\n",
       "      <td>NaN</td>\n",
       "    </tr>\n",
       "    <tr>\n",
       "      <th>Thur</th>\n",
       "      <td>18.780000</td>\n",
       "      <td>17.664754</td>\n",
       "    </tr>\n",
       "  </tbody>\n",
       "</table>\n",
       "</div>"
      ],
      "text/plain": [
       "     AvgBillAmount           \n",
       "time        Dinner      Lunch\n",
       "day                          \n",
       "Fri      19.663333  12.845714\n",
       "Sat      20.441379        NaN\n",
       "Sun      21.410000        NaN\n",
       "Thur     18.780000  17.664754"
      ]
     },
     "execution_count": 26,
     "metadata": {},
     "output_type": "execute_result"
    }
   ],
   "source": [
    "summary_df=cust_tip_df.groupby(['day','time'], as_index=False).agg(AvgBillAmount=('total_bill','mean'))\n",
    "summary_df.pivot(index='day', columns='time')"
   ]
  },
  {
   "cell_type": "markdown",
   "metadata": {},
   "source": [
    "The average Total bill amount is the highest at Dinner time on Sundays.\n",
    "\n",
    "The average Total bill amount is the lowest at Lunch time on Fridays."
   ]
  },
  {
   "cell_type": "markdown",
   "metadata": {
    "id": "6moOJA1aHRPl"
   },
   "source": [
    "### 16. Comment about the tips given by the smokers"
   ]
  },
  {
   "cell_type": "code",
   "execution_count": 27,
   "metadata": {
    "colab": {
     "base_uri": "https://localhost:8080/",
     "height": 296
    },
    "id": "ibJwvdpaHRPl",
    "outputId": "56ee75ca-ce0f-4984-c4df-df716be69946"
   },
   "outputs": [
    {
     "data": {
      "text/plain": [
       "<AxesSubplot:xlabel='smoker', ylabel='tip'>"
      ]
     },
     "execution_count": 27,
     "metadata": {},
     "output_type": "execute_result"
    },
    {
     "data": {
      "image/png": "[encoded data removed]",
      "text/plain": [
       "<Figure size 432x288 with 1 Axes>"
      ]
     },
     "metadata": {
      "needs_background": "light"
     },
     "output_type": "display_data"
    }
   ],
   "source": [
    "sns.boxplot(x='smoker',y='tip', data=cust_tip_df)"
   ]
  },
  {
   "cell_type": "code",
   "execution_count": 28,
   "metadata": {},
   "outputs": [
    {
     "data": {
      "text/html": [
       "<div>\n",
       "<style scoped>\n",
       "    .dataframe tbody tr th:only-of-type {\n",
       "        vertical-align: middle;\n",
       "    }\n",
       "\n",
       "    .dataframe tbody tr th {\n",
       "        vertical-align: top;\n",
       "    }\n",
       "\n",
       "    .dataframe thead th {\n",
       "        text-align: right;\n",
       "    }\n",
       "</style>\n",
       "<table border=\"1\" class=\"dataframe\">\n",
       "  <thead>\n",
       "    <tr style=\"text-align: right;\">\n",
       "      <th></th>\n",
       "      <th>Tip_Median</th>\n",
       "    </tr>\n",
       "    <tr>\n",
       "      <th>smoker</th>\n",
       "      <th></th>\n",
       "    </tr>\n",
       "  </thead>\n",
       "  <tbody>\n",
       "    <tr>\n",
       "      <th>No</th>\n",
       "      <td>2.74</td>\n",
       "    </tr>\n",
       "    <tr>\n",
       "      <th>Yes</th>\n",
       "      <td>3.00</td>\n",
       "    </tr>\n",
       "  </tbody>\n",
       "</table>\n",
       "</div>"
      ],
      "text/plain": [
       "        Tip_Median\n",
       "smoker            \n",
       "No            2.74\n",
       "Yes           3.00"
      ]
     },
     "execution_count": 28,
     "metadata": {},
     "output_type": "execute_result"
    }
   ],
   "source": [
    "cust_tip_df.groupby('smoker').agg(Tip_Median=('tip','median'))"
   ]
  },
  {
   "cell_type": "markdown",
   "metadata": {
    "id": "tj4wTWNpx_pe"
   },
   "source": [
    "Median is used as the data has outliers. The median tips of smokers are higher than non-smokers. Hence Smokers tend to tip more than non-smokers.\n",
    "\n",
    "Non-smokers are more likely to make extremely high tips."
   ]
  },
  {
   "cell_type": "markdown",
   "metadata": {
    "id": "1ddfmFXpHRPl"
   },
   "source": [
    "### 17.Create a Pivot table with sex and smokers with their average tip amount"
   ]
  },
  {
   "cell_type": "code",
   "execution_count": 29,
   "metadata": {
    "colab": {
     "base_uri": "https://localhost:8080/",
     "height": 171
    },
    "id": "0k6AcCssHRPl",
    "outputId": "6aaec57a-b83e-4b0d-d10a-51ede9c64c14"
   },
   "outputs": [
    {
     "data": {
      "text/html": [
       "<div>\n",
       "<style scoped>\n",
       "    .dataframe tbody tr th:only-of-type {\n",
       "        vertical-align: middle;\n",
       "    }\n",
       "\n",
       "    .dataframe tbody tr th {\n",
       "        vertical-align: top;\n",
       "    }\n",
       "\n",
       "    .dataframe thead tr th {\n",
       "        text-align: left;\n",
       "    }\n",
       "\n",
       "    .dataframe thead tr:last-of-type th {\n",
       "        text-align: right;\n",
       "    }\n",
       "</style>\n",
       "<table border=\"1\" class=\"dataframe\">\n",
       "  <thead>\n",
       "    <tr>\n",
       "      <th></th>\n",
       "      <th colspan=\"2\" halign=\"left\">AvgTipAmount</th>\n",
       "    </tr>\n",
       "    <tr>\n",
       "      <th>smoker</th>\n",
       "      <th>No</th>\n",
       "      <th>Yes</th>\n",
       "    </tr>\n",
       "    <tr>\n",
       "      <th>sex</th>\n",
       "      <th></th>\n",
       "      <th></th>\n",
       "    </tr>\n",
       "  </thead>\n",
       "  <tbody>\n",
       "    <tr>\n",
       "      <th>Female</th>\n",
       "      <td>2.773519</td>\n",
       "      <td>2.931515</td>\n",
       "    </tr>\n",
       "    <tr>\n",
       "      <th>Male</th>\n",
       "      <td>3.113402</td>\n",
       "      <td>3.051167</td>\n",
       "    </tr>\n",
       "  </tbody>\n",
       "</table>\n",
       "</div>"
      ],
      "text/plain": [
       "       AvgTipAmount          \n",
       "smoker           No       Yes\n",
       "sex                          \n",
       "Female     2.773519  2.931515\n",
       "Male       3.113402  3.051167"
      ]
     },
     "execution_count": 29,
     "metadata": {},
     "output_type": "execute_result"
    }
   ],
   "source": [
    "summary_df = cust_tip_df.groupby(['sex','smoker'],as_index=False).agg(AvgTipAmount=('tip','mean'))\n",
    "summary_df.pivot(index='sex', columns='smoker')"
   ]
  },
  {
   "cell_type": "markdown",
   "metadata": {},
   "source": [
    "The avg tip of non-smoker male is the highest. Hence non-smoker Male is likely to tip more.\n",
    "\n",
    "The average tip of non-smoker female is the lowest. Hence non-smoker Female is likely to tip less."
   ]
  },
  {
   "cell_type": "markdown",
   "metadata": {
    "id": "WD0gY3_rHRPm"
   },
   "source": [
    "### 18. Compute the tips per person for each observation (tips/size)"
   ]
  },
  {
   "cell_type": "code",
   "execution_count": 30,
   "metadata": {
    "colab": {
     "base_uri": "https://localhost:8080/",
     "height": 202
    },
    "id": "btN-GJgeHRPm",
    "outputId": "5d3efbb7-9380-4dea-8471-8d1b6f82c701"
   },
   "outputs": [
    {
     "data": {
      "text/html": [
       "<div>\n",
       "<style scoped>\n",
       "    .dataframe tbody tr th:only-of-type {\n",
       "        vertical-align: middle;\n",
       "    }\n",
       "\n",
       "    .dataframe tbody tr th {\n",
       "        vertical-align: top;\n",
       "    }\n",
       "\n",
       "    .dataframe thead th {\n",
       "        text-align: right;\n",
       "    }\n",
       "</style>\n",
       "<table border=\"1\" class=\"dataframe\">\n",
       "  <thead>\n",
       "    <tr style=\"text-align: right;\">\n",
       "      <th></th>\n",
       "      <th>total_bill</th>\n",
       "      <th>tip</th>\n",
       "      <th>sex</th>\n",
       "      <th>smoker</th>\n",
       "      <th>day</th>\n",
       "      <th>time</th>\n",
       "      <th>size</th>\n",
       "      <th>tip_per_person</th>\n",
       "    </tr>\n",
       "  </thead>\n",
       "  <tbody>\n",
       "    <tr>\n",
       "      <th>0</th>\n",
       "      <td>16.99</td>\n",
       "      <td>1.01</td>\n",
       "      <td>Female</td>\n",
       "      <td>No</td>\n",
       "      <td>Sun</td>\n",
       "      <td>Dinner</td>\n",
       "      <td>2</td>\n",
       "      <td>0.505000</td>\n",
       "    </tr>\n",
       "    <tr>\n",
       "      <th>1</th>\n",
       "      <td>10.34</td>\n",
       "      <td>1.66</td>\n",
       "      <td>Male</td>\n",
       "      <td>No</td>\n",
       "      <td>Sun</td>\n",
       "      <td>Dinner</td>\n",
       "      <td>3</td>\n",
       "      <td>0.553333</td>\n",
       "    </tr>\n",
       "    <tr>\n",
       "      <th>2</th>\n",
       "      <td>21.01</td>\n",
       "      <td>3.50</td>\n",
       "      <td>Male</td>\n",
       "      <td>No</td>\n",
       "      <td>Sun</td>\n",
       "      <td>Dinner</td>\n",
       "      <td>3</td>\n",
       "      <td>1.166667</td>\n",
       "    </tr>\n",
       "    <tr>\n",
       "      <th>3</th>\n",
       "      <td>23.68</td>\n",
       "      <td>3.31</td>\n",
       "      <td>Male</td>\n",
       "      <td>No</td>\n",
       "      <td>Sun</td>\n",
       "      <td>Dinner</td>\n",
       "      <td>2</td>\n",
       "      <td>1.655000</td>\n",
       "    </tr>\n",
       "    <tr>\n",
       "      <th>4</th>\n",
       "      <td>24.59</td>\n",
       "      <td>3.61</td>\n",
       "      <td>Female</td>\n",
       "      <td>No</td>\n",
       "      <td>Sun</td>\n",
       "      <td>Dinner</td>\n",
       "      <td>4</td>\n",
       "      <td>0.902500</td>\n",
       "    </tr>\n",
       "  </tbody>\n",
       "</table>\n",
       "</div>"
      ],
      "text/plain": [
       "   total_bill   tip     sex smoker  day    time  size  tip_per_person\n",
       "0       16.99  1.01  Female     No  Sun  Dinner     2        0.505000\n",
       "1       10.34  1.66    Male     No  Sun  Dinner     3        0.553333\n",
       "2       21.01  3.50    Male     No  Sun  Dinner     3        1.166667\n",
       "3       23.68  3.31    Male     No  Sun  Dinner     2        1.655000\n",
       "4       24.59  3.61  Female     No  Sun  Dinner     4        0.902500"
      ]
     },
     "execution_count": 30,
     "metadata": {},
     "output_type": "execute_result"
    }
   ],
   "source": [
    "cust_tip_df['tip_per_person'] = cust_tip_df['tip']/cust_tip_df['size']\n",
    "cust_tip_df.head()"
   ]
  },
  {
   "cell_type": "markdown",
   "metadata": {
    "id": "TDJdVW8lHRPm"
   },
   "source": [
    "### 19. Compute the kurtosis value of each numerical variable and comment about it"
   ]
  },
  {
   "cell_type": "code",
   "execution_count": 31,
   "metadata": {
    "colab": {
     "base_uri": "https://localhost:8080/"
    },
    "id": "H-Ga9lXkHRPm",
    "outputId": "3a6d610e-10a0-4653-c8e1-f2a558845ac5"
   },
   "outputs": [
    {
     "data": {
      "text/plain": [
       "total_bill    1.218484\n",
       "tip           3.648376\n",
       "size          1.731700\n",
       "dtype: float64"
      ]
     },
     "execution_count": 31,
     "metadata": {},
     "output_type": "execute_result"
    }
   ],
   "source": [
    "num_data.kurtosis()"
   ]
  },
  {
   "cell_type": "markdown",
   "metadata": {
    "id": "8N54Zph23HFU"
   },
   "source": [
    "Tips has heavier tails (kurtosis>3) indicating leptokurtic. \n",
    "\n",
    "Total bill and size have lighter tails (kurtosis < 3) indicating platokurtic"
   ]
  },
  {
   "cell_type": "markdown",
   "metadata": {
    "id": "Cy3pyQFnHRPm"
   },
   "source": [
    "### 20. Check whether how many percentage of data is exist in between +/-1 sigma from the mean of the column total_bill"
   ]
  },
  {
   "cell_type": "code",
   "execution_count": 32,
   "metadata": {
    "colab": {
     "base_uri": "https://localhost:8080/"
    },
    "id": "Tww_yrBOHRPm",
    "outputId": "c12c82cf-b98c-4e6b-f94b-6be524d591bc"
   },
   "outputs": [
    {
     "name": "stdout",
     "output_type": "stream",
     "text": [
      "72.1% of customers have total bill between +1 Sigma 10.9 and -1 Sigma 28.7\n"
     ]
    }
   ],
   "source": [
    "bill_std = cust_tip_df['total_bill'].std()\n",
    "bill_mean = cust_tip_df['total_bill'].mean()\n",
    "minus_one_sigma = bill_mean - bill_std\n",
    "plus_one_sigma = bill_mean + bill_std\n",
    "noofcusts = cust_tip_df[(cust_tip_df.total_bill>=minus_one_sigma)&(cust_tip_df.total_bill<=plus_one_sigma)].shape[0]\n",
    "total_noofcusts = cust_tip_df.shape[0]\n",
    "pct = noofcusts/total_noofcusts*100\n",
    "print(\"%.1f%% of customers have total bill between +1 Sigma %.1f and -1 Sigma %.1f\" %(pct, minus_one_sigma, plus_one_sigma))"
   ]
  }
 ],
 "metadata": {
  "colab": {
   "name": "Lab_Exercise_1_DS_DSAI.ipynb",
   "provenance": []
  },
  "kernelspec": {
   "display_name": "Python 3",
   "language": "python",
   "name": "python3"
  },
  "language_info": {
   "codemirror_mode": {
    "name": "ipython",
    "version": 3
   },
   "file_extension": ".py",
   "mimetype": "text/x-python",
   "name": "python",
   "nbconvert_exporter": "python",
   "pygments_lexer": "ipython3",
   "version": "3.8.5"
  }
 },
 "nbformat": 4,
 "nbformat_minor": 4
}
