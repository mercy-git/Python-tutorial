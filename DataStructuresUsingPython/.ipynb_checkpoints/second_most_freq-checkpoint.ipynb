{
 "cells": [
  {
   "cell_type": "markdown",
   "metadata": {},
   "source": [
    "# Problem Statement "
   ]
  },
  {
   "cell_type": "markdown",
   "metadata": {},
   "source": [
    "1. Print an error message\n",
    "    1. If the length of the string exceeds 100\n",
    "    2. If the string is not provided\n",
    "    3. If all the letters in the string are repeated exactly once\n",
    "    4. If there is no second most frequent character\n",
    "2. Else print the second most frequent character in the string"
   ]
  },
  {
   "cell_type": "markdown",
   "metadata": {},
   "source": [
    "# Test Cases\n",
    "\n",
    "1. If there is no second most frequent character <br>\n",
    "Input = aaaccc <br>\n",
    "Ouput = There is no second most frequent character\n",
    "\n",
    "2. If all the letters in the string repeat exactly once<br>\n",
    "Input = abcd <br>\n",
    "Ouput = All the letters in the string are repeated exactly once\n",
    "\n",
    "3. If length of the string is greater than 100 <br>\n",
    "Output = The length of the string exceeds 100\n",
    "\n",
    "4. If the length of the string is 100 and all the characters are same\n",
    "Output = There is no second most frequent character\n",
    "\n",
    "5. If the string is not provided <br>\n",
    "Input =\n",
    "Output = The string has not been provided\n",
    "\n",
    "6. If there are two or more characters for 1st most frequent character <br>\n",
    "Input = aaacccbb <br>\n",
    "Output: b\n",
    "\n",
    "7. If there are two or more characters for 2nd most frequent character, display the character that comes first when alphabetically ordered <br>\n",
    "Input = aaaccbb <br>\n",
    "Output = b\n",
    "\n",
    "8. If there is only 1 occurence of the second most frequent character <br>\n",
    "Input = aaac <br>\n",
    "Output = c"
   ]
  },
  {
   "cell_type": "markdown",
   "metadata": {},
   "source": [
    "# Algorithm"
   ]
  },
  {
   "cell_type": "markdown",
   "metadata": {},
   "source": [
    "1. Define a method getSecondMostFreq passing the input string and do the following:\n",
    "    1. Return Error code 'err1' and 'The length of the string exceeds 100' if so\n",
    "    2. Return Error code 'err2' and 'The string has not been provided' if so\n",
    "    3. Get the number of unique characters using set method and match it with the length of the string, if both are same, then return the error code 'err3' and 'All the letters in the string are repeated exactly once'.\n",
    "    4. Initialize freq_lst list of 256 size with value 0. The index position of this list respresents an ASCII code. \n",
    "    5. Count number of occurrences of every character using for loop and save it in the list on the index representing the ASCII code of the character.\n",
    "    6. If there is only 1 unique frequency greater than 0, then return the error code 'err4' and the string 'There is no second most frequent character'. \n",
    "    7. Have 2 variables first_freq_ascii_idx and second_freq_ascii_idx initialized as 0, pointing to the index position 0 in the list freq_lst\n",
    "    8. Traversing through each element in the list, do the following:\n",
    "        1. If the current element in the list is greater than the value at first_freq_ascii_idx, assign second_freq_ascii_idx = first_freq_ascii_idx & first_freq_ascii_idx = cur_ele_ascii_indx\n",
    "        2. Else if current element greater than the element at second_freq_ascii_idx and is also not equal to the element at first_freq_ascii_idx, assign second_freq_ascii_idx = cur_ele_ascii_indx\n",
    "    9. Return output code 'output', and the character representation of second_freq_ascii_idx which gives the second most frequent character.\n",
    "2. Get the input string from the user\n",
    "3. Call the function getSecondMostFreq passing the input string as parameter and save the return values into result_type and result\n",
    "4. If the result_type begins with 'err', print the result, else print The second most frequent character is 'value of result variable'"
   ]
  },
  {
   "cell_type": "markdown",
   "metadata": {},
   "source": [
    "# Implementation"
   ]
  },
  {
   "cell_type": "code",
   "execution_count": 34,
   "metadata": {},
   "outputs": [
    {
     "name": "stdin",
     "output_type": "stream",
     "text": [
      "Enter the string:  aaaaaaaaaaaaaa\n"
     ]
    },
    {
     "name": "stdout",
     "output_type": "stream",
     "text": [
      "\n",
      " There is no second most frequent character\n"
     ]
    }
   ],
   "source": [
    "def getSecondMostFreq(string):\n",
    "    if len(string)>100:\n",
    "        return 'err1','The length of the string exceeds 100'\n",
    "     \n",
    "    if len(string)==0:\n",
    "        return 'err2','The string has not been provided'\n",
    "    \n",
    "    # check if all the characters in the string are repeated exactly once\n",
    "    unique_characters = len(set(list(string)))\n",
    "    if unique_characters == len(string):\n",
    "        return 'err3','All the letters in the string are repeated exactly once'\n",
    "    \n",
    "    # Initialize freq_lst list of 256 size with value 0\n",
    "    freq_lst = [0] * 256\n",
    "    \n",
    "     # count number of occurrences of every character.\n",
    "    for i in range(len(string)):\n",
    "        freq_lst[ord(string[i])] += 1\n",
    "        \n",
    "    if len(list(set([x for x in freq_lst if x!=0])))==1:\n",
    "        return 'err4','There is no second most frequent character'\n",
    "    \n",
    "#     for ind, val in enumerate(freq_lst): # for testing purpose\n",
    "#         if val !=0:\n",
    "#             print(ind,'-', chr(ind), '-', val, end='\\t')\n",
    "        \n",
    "    first_freq_ascii_idx, second_freq_ascii_idx = 0, 0 \n",
    "    \n",
    "    # Traverse through the count[] and find second highest element.\n",
    "    for cur_ele_ascii_indx in range(256):\n",
    "        second_greater_cond = freq_lst[cur_ele_ascii_indx] > freq_lst[second_freq_ascii_idx]\n",
    "        \n",
    "        # If current element is greater than first then update second = first and first = current element\n",
    "        if freq_lst[cur_ele_ascii_indx] > freq_lst[first_freq_ascii_idx]:\n",
    "            second_freq_ascii_idx = first_freq_ascii_idx\n",
    "            first_freq_ascii_idx = cur_ele_ascii_indx\n",
    "            \n",
    "        # If current element is in between first and second then update second = current element\n",
    "        elif ( second_greater_cond and freq_lst[cur_ele_ascii_indx] != freq_lst[first_freq_ascii_idx]): \n",
    "            second_freq_ascii_idx = cur_ele_ascii_indx\n",
    "            \n",
    "    return 'output',chr(second_freq_ascii_idx)\n",
    "\n",
    "# Get the input from user\n",
    "string = input('Enter the string: ')\n",
    "\n",
    "# call the function\n",
    "result_type, result = getSecondMostFreq(string)\n",
    "\n",
    "# display the output\n",
    "if result_type.startswith('err'):\n",
    "    print('\\n', result)\n",
    "else:\n",
    "    print(\"\\n The second most frequent character is\", result)"
   ]
  },
  {
   "cell_type": "markdown",
   "metadata": {},
   "source": [
    "# Testing"
   ]
  },
  {
   "cell_type": "code",
   "execution_count": 35,
   "metadata": {},
   "outputs": [
    {
     "name": "stdout",
     "output_type": "stream",
     "text": [
      "All 8 test cases passed successfully. Yeehhhhh!\n"
     ]
    }
   ],
   "source": [
    "inputs = ['aaaccc', 'abcd', 'a'*101, 'a'*100,'','aaacccbb','aaaccbb','aaac']\n",
    "outputs = ['There is no second most frequent character', 'All the letters in the string are repeated exactly once', 'The length of the string exceeds 100', \n",
    "           'There is no second most frequent character', 'The string has not been provided','b', 'b', 'c']\n",
    "\n",
    "def test(inputs, outputs):\n",
    "    test_result = []\n",
    "    generated_outputs = []\n",
    "    for input_str,output in zip(inputs,outputs):\n",
    "        _,func_output = getSecondMostFreq(input_str)\n",
    "        generated_outputs.append(func_output)\n",
    "        \n",
    "        if func_output == output:\n",
    "            test_result.append('Pass')\n",
    "        else:\n",
    "            test_result.append('Fail')\n",
    "    if test_result.count('Pass')==len(test_result):\n",
    "        print('All {} test cases passed successfully. Yeehhhhh!'.format(len(test_result)))\n",
    "    else:\n",
    "        print(test_result.count('Fail'), 'Test cases failed.')\n",
    "        failed_tc_indexes = [index for index, element in enumerate(test_result) if element == 'Fail']\n",
    "        print('The failed test cases are ', [x+1 for x in failed_tc_indexes])\n",
    "        for failed_tc_index in failed_tc_indexes:\n",
    "            print('Test Case ', failed_tc_index+1, ': ')\n",
    "            print('Input: {}'.format(inputs[failed_tc_index]))\n",
    "            print('Expected Output: {}'.format(outputs[failed_tc_index]))\n",
    "            print('Generated Output: {}'.format(generated_outputs[failed_tc_index]))\n",
    "                  \n",
    "test(inputs,outputs)"
   ]
  },
  {
   "cell_type": "code",
   "execution_count": null,
   "metadata": {},
   "outputs": [],
   "source": []
  }
 ],
 "metadata": {
  "kernelspec": {
   "display_name": "Python 3",
   "language": "python",
   "name": "python3"
  },
  "language_info": {
   "codemirror_mode": {
    "name": "ipython",
    "version": 3
   },
   "file_extension": ".py",
   "mimetype": "text/x-python",
   "name": "python",
   "nbconvert_exporter": "python",
   "pygments_lexer": "ipython3",
   "version": "3.8.5"
  }
 },
 "nbformat": 4,
 "nbformat_minor": 4
}
