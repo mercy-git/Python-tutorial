{
 "cells": [
  {
   "cell_type": "markdown",
   "metadata": {},
   "source": [
    "# Probability Concepts"
   ]
  },
  {
   "cell_type": "code",
   "execution_count": 1,
   "metadata": {},
   "outputs": [],
   "source": [
    "import pandas as pd"
   ]
  },
  {
   "cell_type": "code",
   "execution_count": 3,
   "metadata": {
    "scrolled": true
   },
   "outputs": [
    {
     "name": "stdout",
     "output_type": "stream",
     "text": [
      "(3932, 7)\n"
     ]
    },
    {
     "data": {
      "text/html": [
       "<div>\n",
       "<style scoped>\n",
       "    .dataframe tbody tr th:only-of-type {\n",
       "        vertical-align: middle;\n",
       "    }\n",
       "\n",
       "    .dataframe tbody tr th {\n",
       "        vertical-align: top;\n",
       "    }\n",
       "\n",
       "    .dataframe thead th {\n",
       "        text-align: right;\n",
       "    }\n",
       "</style>\n",
       "<table border=\"1\" class=\"dataframe\">\n",
       "  <thead>\n",
       "    <tr style=\"text-align: right;\">\n",
       "      <th></th>\n",
       "      <th>Scorecard</th>\n",
       "      <th>Team 1</th>\n",
       "      <th>Team 2</th>\n",
       "      <th>Winner</th>\n",
       "      <th>Margin</th>\n",
       "      <th>Ground</th>\n",
       "      <th>Match Date</th>\n",
       "    </tr>\n",
       "  </thead>\n",
       "  <tbody>\n",
       "    <tr>\n",
       "      <th>0</th>\n",
       "      <td>ODI # 1</td>\n",
       "      <td>Australia</td>\n",
       "      <td>England</td>\n",
       "      <td>Australia</td>\n",
       "      <td>5 wickets</td>\n",
       "      <td>Melbourne</td>\n",
       "      <td>Jan 5, 1971</td>\n",
       "    </tr>\n",
       "    <tr>\n",
       "      <th>1</th>\n",
       "      <td>ODI # 2</td>\n",
       "      <td>England</td>\n",
       "      <td>Australia</td>\n",
       "      <td>England</td>\n",
       "      <td>6 wickets</td>\n",
       "      <td>Manchester</td>\n",
       "      <td>Aug 24, 1972</td>\n",
       "    </tr>\n",
       "    <tr>\n",
       "      <th>2</th>\n",
       "      <td>ODI # 3</td>\n",
       "      <td>England</td>\n",
       "      <td>Australia</td>\n",
       "      <td>Australia</td>\n",
       "      <td>5 wickets</td>\n",
       "      <td>Lord's</td>\n",
       "      <td>Aug 26, 1972</td>\n",
       "    </tr>\n",
       "    <tr>\n",
       "      <th>3</th>\n",
       "      <td>ODI # 4</td>\n",
       "      <td>England</td>\n",
       "      <td>Australia</td>\n",
       "      <td>England</td>\n",
       "      <td>2 wickets</td>\n",
       "      <td>Birmingham</td>\n",
       "      <td>Aug 28, 1972</td>\n",
       "    </tr>\n",
       "    <tr>\n",
       "      <th>4</th>\n",
       "      <td>ODI # 5</td>\n",
       "      <td>New Zealand</td>\n",
       "      <td>Pakistan</td>\n",
       "      <td>New Zealand</td>\n",
       "      <td>22 runs</td>\n",
       "      <td>Christchurch</td>\n",
       "      <td>Feb 11, 1973</td>\n",
       "    </tr>\n",
       "  </tbody>\n",
       "</table>\n",
       "</div>"
      ],
      "text/plain": [
       "  Scorecard       Team 1     Team 2       Winner     Margin        Ground  \\\n",
       "0   ODI # 1    Australia    England    Australia  5 wickets     Melbourne   \n",
       "1   ODI # 2      England  Australia      England  6 wickets    Manchester   \n",
       "2   ODI # 3      England  Australia    Australia  5 wickets        Lord's   \n",
       "3   ODI # 4      England  Australia      England  2 wickets    Birmingham   \n",
       "4   ODI # 5  New Zealand   Pakistan  New Zealand    22 runs  Christchurch   \n",
       "\n",
       "     Match Date  \n",
       "0   Jan 5, 1971  \n",
       "1  Aug 24, 1972  \n",
       "2  Aug 26, 1972  \n",
       "3  Aug 28, 1972  \n",
       "4  Feb 11, 1973  "
      ]
     },
     "execution_count": 3,
     "metadata": {},
     "output_type": "execute_result"
    }
   ],
   "source": [
    "cric_df = pd.read_csv('https://raw.githubusercontent.com/tkseneee/Dataset/master/crick.csv') \n",
    "print(cric_df.shape)\n",
    "cric_df.head()"
   ]
  },
  {
   "cell_type": "markdown",
   "metadata": {},
   "source": [
    "## Handle Missing Values"
   ]
  },
  {
   "cell_type": "code",
   "execution_count": 4,
   "metadata": {},
   "outputs": [
    {
     "data": {
      "text/plain": [
       "Scorecard       0\n",
       "Team 1          0\n",
       "Team 2          0\n",
       "Winner          0\n",
       "Margin        179\n",
       "Ground          0\n",
       "Match Date      0\n",
       "dtype: int64"
      ]
     },
     "execution_count": 4,
     "metadata": {},
     "output_type": "execute_result"
    }
   ],
   "source": [
    "cric_df.isna().sum()"
   ]
  },
  {
   "cell_type": "code",
   "execution_count": 5,
   "metadata": {},
   "outputs": [
    {
     "data": {
      "text/plain": [
       "(3753, 7)"
      ]
     },
     "execution_count": 5,
     "metadata": {},
     "output_type": "execute_result"
    }
   ],
   "source": [
    "cric_df=cric_df.dropna()\n",
    "cric_df.shape"
   ]
  },
  {
   "cell_type": "markdown",
   "metadata": {},
   "source": [
    "## Problem Statement\n",
    "\n",
    "Probability of India winning the match is higher when India bats first or India bats last\n",
    "\n",
    "## Solution\n",
    "\n",
    "**India batted first** (create a column is_india_bat_first with values 1,0)\n",
    "  * ind won by 5 runs => winner=India and Margin contains 'run'\n",
    "         OR\n",
    "  * opponent team won by 4 wickets => winner!=India and Margin contains 'wicket'\n",
    "  \n",
    "---\n",
    "\n",
    "**Matches India batted first** => sum of is_india_bat_first column values\n",
    "\n",
    "**Matches India batted first and Won** => Matches India batted first and winner = India\n",
    "\n",
    "**Probability India Won Given India Batted First** = Matches India batted first and Won / Matches India batted = 0.51\n",
    "\n",
    "---\n",
    "\n",
    "**Matches India batted last** => Matches played by India - Matches India Batted First\n",
    "\n",
    "**Matches India batted last and Won** => Matches India batted last and winner = India \n",
    "\n",
    "**Probability India Won Given India Batted Last** = Matches India batted last and Won / Matches India batted last = 0.57\n",
    "\n",
    "**Probability India Wins** = Total Matches India Won / Total Matches Played By India = 0.54\n",
    "\n",
    "---\n",
    "\n",
    "## Observation\n",
    "\n",
    "Probability of India winning the Match is higher when India bats last."
   ]
  },
  {
   "cell_type": "code",
   "execution_count": 48,
   "metadata": {},
   "outputs": [
    {
     "name": "stdout",
     "output_type": "stream",
     "text": [
      "India Winning Probability = 54%\n",
      "India Winning Probility given India batted first = 51%\n",
      "India Winning Probility given India batted last = 57%\n"
     ]
    }
   ],
   "source": [
    "# total matches india won\n",
    "matches_ind_won = cric_df[cric_df.Winner=='India'].shape[0]\n",
    "\n",
    "# total matches india played\n",
    "matches_ind_played_df = cric_df[(cric_df['Team 1']=='India')|(cric_df['Team 2']=='India')].copy()\n",
    "matches_ind_played = matches_ind_played_df.shape[0]\n",
    "\n",
    "# total matches india batted first\n",
    "is_ind_bat_first = lambda winner,margin: 1 if (winner=='India' and 'run' in margin) or ((winner!='India') and 'wicket' in margin) else 0\n",
    "# syntax to use apply method on more than one column\n",
    "matches_ind_played_df['is_ind_bat_first'] = matches_ind_played_df.apply(lambda x: is_ind_bat_first(x.Winner, x.Margin), axis=1)\n",
    "matches_ind_bat_first = matches_ind_played_df.is_ind_bat_first.sum()\n",
    "\n",
    "# total matches India Batted first and won\n",
    "matches_ind_bat_first_win = matches_ind_played_df[(matches_ind_played_df.is_ind_bat_first==1)&(matches_ind_bat_first_df.Winner=='India')].shape[0]\n",
    "\n",
    "\n",
    "# total matches india batted last\n",
    "matches_ind_bat_last = matches_ind_played_df.shape[0]-matches_ind_bat_first\n",
    "# total matches India Batted last and won\n",
    "matches_ind_bat_last_win = matches_ind_played_df[(matches_ind_played_df.is_ind_bat_first==0) & (matches_ind_played_df.Winner=='India')].shape[0]\n",
    "\n",
    "ind_win_prob = round(matches_ind_won/matches_ind_played,2)\n",
    "ind_bat_first_win_prob = round(matches_ind_bat_first_win/matches_ind_bat_first,2)\n",
    "ind_bat_last_win_prob = round(matches_ind_bat_last_win/matches_ind_bat_last,2)\n",
    "\n",
    "print(\"India Winning Probability = {}%\".format(ind_win_prob))\n",
    "print(\"India Winning Probility given India batted first = {}%\".format(ind_bat_first_win_prob))\n",
    "print(\"India Winning Probility given India batted last = {}%\".format(ind_bat_last_win_prob))"
   ]
  }
 ],
 "metadata": {
  "kernelspec": {
   "display_name": "Python 3",
   "language": "python",
   "name": "python3"
  },
  "language_info": {
   "codemirror_mode": {
    "name": "ipython",
    "version": 3
   },
   "file_extension": ".py",
   "mimetype": "text/x-python",
   "name": "python",
   "nbconvert_exporter": "python",
   "pygments_lexer": "ipython3",
   "version": "3.8.5"
  }
 },
 "nbformat": 4,
 "nbformat_minor": 4
}
